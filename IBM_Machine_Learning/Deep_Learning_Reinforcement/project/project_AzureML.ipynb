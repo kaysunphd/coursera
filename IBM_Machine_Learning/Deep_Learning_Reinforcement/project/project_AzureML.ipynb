{
 "cells": [
  {
   "cell_type": "markdown",
   "id": "83a8f6d4-e7b3-4ce4-9dd6-f27660f280f1",
   "metadata": {},
   "source": [
    "## COVID-19 X-ray Classification\n",
    "\n",
    "### <ins>1. Objective</ins>\n",
    "#### Coronavirus disease (COVID-19) is an respiratory infectious disease caused by the SARS-CoV-2 virus.\n",
    "#### Chest x-rays can be used in diagnosis and follow up in patients with COVID-19 pneumonia. Given the strain on the medical staff, automatic diagnosis of COVID-19 from chest x-ray can free up personnel needs."
   ]
  },
  {
   "cell_type": "code",
   "execution_count": 1,
   "id": "8e7b3e41-a55a-4a0c-a908-4819fa0f5859",
   "metadata": {
    "gather": {
     "logged": 1663800596221
    }
   },
   "outputs": [],
   "source": [
    "import os, glob\n",
    "import numpy as np\n",
    "import matplotlib.pyplot as plt\n",
    "import tensorflow as tf\n",
    "from PIL import Image\n",
    "from tqdm import tqdm\n",
    "from tensorflow.keras.applications import ResNet50\n",
    "from tensorflow.keras.preprocessing.image import ImageDataGenerator\n",
    "from tensorflow.keras.models import Sequential\n",
    "from tensorflow.keras.layers import Conv2D, MaxPooling2D, Flatten, Dense, GlobalAveragePooling2D, Dropout\n",
    "from tensorflow.keras import Model, optimizers\n",
    "from tensorflow.keras.callbacks import EarlyStopping"
   ]
  },
  {
   "cell_type": "markdown",
   "id": "8e8e3b2a-a2c9-47fb-a3e8-8933d5568884",
   "metadata": {
    "nteract": {
     "transient": {
      "deleting": false
     }
    }
   },
   "source": [
    "### <ins>2. Data</ins>\n",
    "#### Data is from https://www.kaggle.com/datasets/masumrefat/chest-xray-images-pneumonia-and-covid19\n",
    "\n",
    "#### Data consists of axial, coronal and saggital views of the chest for the following 3 classifications as determined by radiologists\n",
    "1. COVID-19 positive\n",
    "<img src=\"Chest_xray_image_dataset_covid_19_and_others/train/Covid_19/1-s2.0-S1684118220300608-main.pdf-001.jpg\" alt=\"covid\" style=\"width: 50px;\"/>\n",
    "\n",
    "2. Normal\n",
    "<img src=\"Chest_xray_image_dataset_covid_19_and_others/train/NORMAL/NORMAL2-IM-0256-0001.jpeg\" alt=\"covid\" width=\"100\"/>\n",
    "\n",
    "3. Pneumonia (COVID-19 negative)\n",
    "<img src=\"Chest_xray_image_dataset_covid_19_and_others/train/PNEUMONIA/person343_virus_704.jpeg\" alt=\"covid\" width=\"100\"/>\n",
    "\n",
    "#### Approach\n",
    "Use Deep Learning to classify chest x-rays into Covid-19, normal and pneumonia (Covid-19 negative). 3 models used includes,\n",
    "1. VGG16 type model\n",
    "2. Transfer learning with ResNet\n",
    "3. Hyperparameter tuned transfer learning with ResNet."
   ]
  },
  {
   "cell_type": "markdown",
   "id": "da3279b7-1e19-4dc9-8fd1-1cbe39b5952a",
   "metadata": {},
   "source": [
    "### <ins>3. Data Exploration</ins>\n",
    "Find the largest and smallest image size from the training set. This will be used to determine an appropriate image size used for training and prediction. Too big and training will take a long time requiring lots of memory. Too small and critical information will be lost in resizing."
   ]
  },
  {
   "cell_type": "code",
   "execution_count": 24,
   "id": "cbae9a8f-2a12-4caa-98fe-7b63847396b0",
   "metadata": {
    "gather": {
     "logged": 1663805803771
    }
   },
   "outputs": [
    {
     "name": "stdout",
     "output_type": "stream",
     "text": [
      "Number of Covid_19 images in training dataset,  210\n",
      "Number of Normal images in training dataset,  1260\n",
      "Number of Pneumonia images in training dataset,  3420\n"
     ]
    }
   ],
   "source": [
    "# collect images from each path in training set\n",
    "train_data_dir = \"./Chest_xray_image_dataset_covid_19_and_others/train\"\n",
    "\n",
    "train_covid_images = [os.path.join(train_data_dir, 'Covid_19', image) for image in os.listdir(os.path.join(train_data_dir, 'Covid_19'))]\n",
    "train_normal_images = [os.path.join(train_data_dir, 'NORMAL', image) for image in os.listdir(os.path.join(train_data_dir, 'NORMAL'))]\n",
    "train_pneumonia_images = [os.path.join(train_data_dir, 'PNEUMONIA', image) for image in os.listdir(os.path.join(train_data_dir, 'PNEUMONIA'))]\n",
    "\n",
    "print(\"Number of Covid_19 images in training dataset, \", len(train_covid_images))\n",
    "print(\"Number of Normal images in training dataset, \", len(train_normal_images))\n",
    "print(\"Number of Pneumonia images in training dataset, \", len(train_pneumonia_images))"
   ]
  },
  {
   "cell_type": "code",
   "execution_count": 25,
   "id": "cab51e4d-ab6d-4f2b-b084-50da4dbf72d1",
   "metadata": {
    "gather": {
     "logged": 1663805990819
    }
   },
   "outputs": [],
   "source": [
    "# get list of image sizes\n",
    "image_size_list = list()\n",
    "for image_path in train_covid_images+train_normal_images+train_pneumonia_images:\n",
    "    image_size_list.append(Image.open(image_path).size)"
   ]
  },
  {
   "cell_type": "code",
   "execution_count": 26,
   "id": "cc91b5d0-d1fe-413f-a1e7-45d5bdeb7a11",
   "metadata": {
    "gather": {
     "logged": 1663805996978
    }
   },
   "outputs": [
    {
     "name": "stdout",
     "output_type": "stream",
     "text": [
      "Largest image size in training set,  [4298, 4300]\n",
      "Smallest image size in training set.  [255, 127]\n"
     ]
    }
   ],
   "source": [
    "# find largest and smallest image size in training set\n",
    "largest_image_size = list(map(max, zip(*image_size_list)))\n",
    "smallest_image_size = list(map(min, zip(*image_size_list)))\n",
    "  \n",
    "print (\"Largest image size in training set, \", largest_image_size)\n",
    "print (\"Smallest image size in training set. \", smallest_image_size)"
   ]
  },
  {
   "cell_type": "code",
   "execution_count": 27,
   "id": "d82fdf13-ae0c-4cc0-b360-40ef686a6272",
   "metadata": {
    "gather": {
     "logged": 1663805999094
    }
   },
   "outputs": [],
   "source": [
    "# assign image size used for training prediction.\n",
    "image_width = 224\n",
    "image_height = 224"
   ]
  },
  {
   "cell_type": "code",
   "execution_count": 28,
   "id": "a76451ef-f027-48fc-bcda-f4a38fa9042d",
   "metadata": {
    "gather": {
     "logged": 1663806002609
    }
   },
   "outputs": [
    {
     "name": "stdout",
     "output_type": "stream",
     "text": [
      "Number of Covid_19 images in testing dataset,  52\n",
      "Number of Normal images in testing dataset,  323\n",
      "Number of Pneumonia images in testing dataset,  853\n"
     ]
    }
   ],
   "source": [
    "# collect images from each path in testing set\n",
    "test_data_dir = \"./Chest_xray_image_dataset_covid_19_and_others/test\"\n",
    "\n",
    "test_covid_images = [os.path.join(test_data_dir, 'Covid_19', image) for image in os.listdir(os.path.join(test_data_dir, 'Covid_19'))]\n",
    "test_normal_images = [os.path.join(test_data_dir, 'NORMAL', image) for image in os.listdir(os.path.join(test_data_dir, 'NORMAL'))]\n",
    "test_pneumonia_images = [os.path.join(test_data_dir, 'PNEUMONIA', image) for image in os.listdir(os.path.join(test_data_dir, 'PNEUMONIA'))]\n",
    "\n",
    "print(\"Number of Covid_19 images in testing dataset, \", len(test_covid_images))\n",
    "print(\"Number of Normal images in testing dataset, \", len(test_normal_images))\n",
    "print(\"Number of Pneumonia images in testing dataset, \", len(test_pneumonia_images))"
   ]
  },
  {
   "cell_type": "markdown",
   "id": "0b674f75-c054-4bc3-8f26-2e2658fb5025",
   "metadata": {},
   "source": [
    "#### Data Augmentation\n",
    "To minimize overfit, augment the training image data with\n",
    "1. rescale pixels to range from 0 to 1\n",
    "2. shear by 0.2\n",
    "3. zoom by 0.2\n",
    "4. shift by width by 0.2\n",
    "5. shift by height by 0.2\n",
    "6. horizontal flip\n",
    "\n",
    "For test image dataset, only rescaling is needed."
   ]
  },
  {
   "cell_type": "code",
   "execution_count": 29,
   "id": "923ce123-c4ce-468f-b442-72d3c69f35e6",
   "metadata": {
    "gather": {
     "logged": 1663806005633
    }
   },
   "outputs": [],
   "source": [
    "# create image data generator for augmentation\n",
    "train_data_generator = ImageDataGenerator(rescale=1. / 255, \n",
    "                                   shear_range=0.2,\n",
    "                                   zoom_range=0.2,\n",
    "                                   width_shift_range=0.2,\n",
    "                                   height_shift_range=0.2,\n",
    "                                   horizontal_flip=True)\n",
    "\n",
    "test_data_generator = ImageDataGenerator(rescale=1. / 255)"
   ]
  },
  {
   "cell_type": "code",
   "execution_count": 30,
   "id": "eb7dcdbe-2d8b-4796-86b9-5522c50a743e",
   "metadata": {
    "gather": {
     "logged": 1663806007964
    }
   },
   "outputs": [
    {
     "name": "stdout",
     "output_type": "stream",
     "text": [
      "Found 4890 images belonging to 3 classes.\n",
      "Found 1228 images belonging to 3 classes.\n"
     ]
    },
    {
     "data": {
      "text/plain": [
       "{'Covid_19': 0, 'NORMAL': 1, 'PNEUMONIA': 2}"
      ]
     },
     "execution_count": 30,
     "metadata": {},
     "output_type": "execute_result"
    }
   ],
   "source": [
    "# create augmented images with resizing to assigned image width, height\n",
    "batch_size = 64\n",
    "\n",
    "train_dataset = train_data_generator.flow_from_directory(train_data_dir, target_size=(image_height, image_width), batch_size=batch_size, class_mode='categorical')\n",
    "test_dataset = test_data_generator.flow_from_directory(test_data_dir, target_size=(image_height, image_width), batch_size=batch_size, class_mode='categorical')\n",
    "\n",
    "train_dataset.class_indices"
   ]
  },
  {
   "cell_type": "code",
   "execution_count": 31,
   "id": "0022319c-4f6a-4da6-9978-783724a699de",
   "metadata": {
    "gather": {
     "logged": 1663806012949
    }
   },
   "outputs": [
    {
     "name": "stdout",
     "output_type": "stream",
     "text": [
      "Batch size, image height, image width, number of classes (64, 224, 224, 3)\n",
      "\n",
      "y consists of the one-hot encoding of the 3 classes for 1 batch of 8 images\n",
      "[[0. 0. 1.]\n",
      " [0. 0. 1.]\n",
      " [0. 0. 1.]\n",
      " [0. 0. 1.]\n",
      " [0. 0. 1.]\n",
      " [0. 0. 1.]\n",
      " [0. 0. 1.]\n",
      " [0. 0. 1.]\n",
      " [0. 1. 0.]\n",
      " [0. 0. 1.]\n",
      " [0. 0. 1.]\n",
      " [0. 0. 1.]\n",
      " [0. 0. 1.]\n",
      " [0. 0. 1.]\n",
      " [0. 1. 0.]\n",
      " [0. 0. 1.]\n",
      " [0. 0. 1.]\n",
      " [0. 0. 1.]\n",
      " [0. 0. 1.]\n",
      " [0. 0. 1.]\n",
      " [0. 0. 1.]\n",
      " [0. 1. 0.]\n",
      " [0. 0. 1.]\n",
      " [0. 0. 1.]\n",
      " [0. 0. 1.]\n",
      " [0. 0. 1.]\n",
      " [0. 0. 1.]\n",
      " [0. 0. 1.]\n",
      " [0. 0. 1.]\n",
      " [0. 0. 1.]\n",
      " [0. 0. 1.]\n",
      " [0. 0. 1.]\n",
      " [0. 0. 1.]\n",
      " [0. 0. 1.]\n",
      " [0. 0. 1.]\n",
      " [0. 0. 1.]\n",
      " [0. 0. 1.]\n",
      " [0. 0. 1.]\n",
      " [0. 0. 1.]\n",
      " [0. 1. 0.]\n",
      " [0. 0. 1.]\n",
      " [0. 0. 1.]\n",
      " [0. 1. 0.]\n",
      " [0. 1. 0.]\n",
      " [0. 0. 1.]\n",
      " [0. 0. 1.]\n",
      " [0. 0. 1.]\n",
      " [0. 0. 1.]\n",
      " [0. 0. 1.]\n",
      " [0. 0. 1.]\n",
      " [0. 0. 1.]\n",
      " [0. 1. 0.]\n",
      " [0. 1. 0.]\n",
      " [0. 0. 1.]\n",
      " [0. 0. 1.]\n",
      " [0. 0. 1.]\n",
      " [0. 0. 1.]\n",
      " [0. 1. 0.]\n",
      " [0. 0. 1.]\n",
      " [0. 0. 1.]\n",
      " [0. 0. 1.]\n",
      " [0. 0. 1.]\n",
      " [0. 0. 1.]\n",
      " [0. 1. 0.]]\n"
     ]
    }
   ],
   "source": [
    "# sample augmented and resized output\n",
    "x, y = next(train_dataset)\n",
    "print(\"Batch size, image height, image width, number of classes\", x.shape)\n",
    "print(\"\\ny consists of the one-hot encoding of the 3 classes for 1 batch of 8 images\")\n",
    "print(y)\n"
   ]
  },
  {
   "cell_type": "markdown",
   "id": "3c135ac7-baf6-4304-95a0-7d1f608f868a",
   "metadata": {},
   "source": [
    "### <ins>4. Deep Learning Modeling</ins>\n",
    "\n",
    "1. VGG16 type model\n",
    "2. Transfer learning with ResNet\n",
    "3. Hyperparameter tuned transfer learning with ResNet."
   ]
  },
  {
   "cell_type": "code",
   "execution_count": 10,
   "id": "e3f16b7f-b4c1-4bff-a9ba-61858df83380",
   "metadata": {
    "gather": {
     "logged": 1663800774832
    }
   },
   "outputs": [],
   "source": [
    "import tensorflow.keras.backend as K\n",
    "\n",
    "def recall_metric(y_true, y_pred):\n",
    "    true_positives = K.sum(K.round(K.clip(y_true * y_pred, 0, 1)))\n",
    "    possible_positives = K.sum(K.round(K.clip(y_true, 0, 1)))\n",
    "    recall = true_positives / (possible_positives + K.epsilon())\n",
    "    return recall\n",
    "\n",
    "def precision_metric(y_true, y_pred):\n",
    "    true_positives = K.sum(K.round(K.clip(y_true * y_pred, 0, 1)))\n",
    "    predicted_positives = K.sum(K.round(K.clip(y_pred, 0, 1)))\n",
    "    precision = true_positives / (predicted_positives + K.epsilon())\n",
    "    return precision\n",
    "\n",
    "def f1_metric(y_true, y_pred):\n",
    "    precision = precision_metric(y_true, y_pred)\n",
    "    recall = recall_metric(y_true, y_pred)\n",
    "    return 2*((precision*recall)/(precision+recall+K.epsilon()))"
   ]
  },
  {
   "cell_type": "code",
   "execution_count": 11,
   "id": "1a300b55-724e-4ddd-a7e5-784b6185cbdf",
   "metadata": {
    "gather": {
     "logged": 1663800774985
    }
   },
   "outputs": [],
   "source": [
    "# plot training loss, accuracy, f1\n",
    "def plot_results(model_history):\n",
    "    plt.figure(figsize=(12, 12))\n",
    "    plt.subplot(1, 3, 1)\n",
    "    plt.plot(model_history.history['loss'], label='train loss')\n",
    "    plt.plot(model_history.history['val_loss'], label='val loss')\n",
    "    plt.title('Epoch vs loss')\n",
    "    plt.xlabel('epoch')\n",
    "    plt.ylabel('loss')\n",
    "    plt.legend()\n",
    "\n",
    "    plt.subplot(1, 3, 2)\n",
    "    plt.plot(model_history.history['accuracy'], label='train accuracy')\n",
    "    plt.plot(model_history.history['val_accuracy'], label='val accuracy')\n",
    "    plt.title('Epoch vs accuracy')\n",
    "    plt.xlabel('epoch')\n",
    "    plt.ylabel('accuracy')\n",
    "    plt.legend()\n",
    "    \n",
    "    plt.subplot(1, 3, 3)\n",
    "    plt.plot(model_history.history['f1_metric'], label='train f1')\n",
    "    plt.plot(model_history.history['val_f1_metric'], label='val f1')\n",
    "    plt.title('Epoch vs F1')\n",
    "    plt.xlabel('epoch')\n",
    "    plt.ylabel('F1')\n",
    "    plt.legend()\n",
    "    plt.show()"
   ]
  },
  {
   "cell_type": "markdown",
   "id": "a72bf1b9-f03e-4f54-b48e-b0f87cb7d430",
   "metadata": {},
   "source": [
    "#### 4.1. VGG16\n",
    "- Optimizer = 'adam'\n",
    "- Loss = 'categorical_crossentropy'\n",
    "- Metrics = 'accuracy', 'f1'\n",
    "\n",
    "F1 score evaluated due to the imbalance of dataset. There are much fewer Covid_19 positive x-rays than normal than pneumonia, which could skew the predictions. F1 score balances the precision and recall for a better evaluation metric. "
   ]
  },
  {
   "cell_type": "code",
   "execution_count": 13,
   "id": "cc6937db-9f2e-47a5-a3d5-170a3cf75900",
   "metadata": {
    "gather": {
     "logged": 1663800775641
    }
   },
   "outputs": [
    {
     "name": "stderr",
     "output_type": "stream",
     "text": [
      "2022-09-21 22:52:48.797379: I tensorflow/stream_executor/platform/default/dso_loader.cc:44] Successfully opened dynamic library libcuda.so.1\n",
      "2022-09-21 22:52:48.843464: I tensorflow/core/common_runtime/gpu/gpu_device.cc:1561] Found device 0 with properties: \n",
      "pciBusID: 0001:00:00.0 name: Tesla K80 computeCapability: 3.7\n",
      "coreClock: 0.8235GHz coreCount: 13 deviceMemorySize: 11.17GiB deviceMemoryBandwidth: 223.96GiB/s\n",
      "2022-09-21 22:52:48.843758: I tensorflow/stream_executor/platform/default/dso_loader.cc:44] Successfully opened dynamic library libcudart.so.10.1\n",
      "2022-09-21 22:52:48.846062: I tensorflow/stream_executor/platform/default/dso_loader.cc:44] Successfully opened dynamic library libcublas.so.10\n",
      "2022-09-21 22:52:48.847737: I tensorflow/stream_executor/platform/default/dso_loader.cc:44] Successfully opened dynamic library libcufft.so.10\n",
      "2022-09-21 22:52:48.848082: I tensorflow/stream_executor/platform/default/dso_loader.cc:44] Successfully opened dynamic library libcurand.so.10\n",
      "2022-09-21 22:52:48.850149: I tensorflow/stream_executor/platform/default/dso_loader.cc:44] Successfully opened dynamic library libcusolver.so.10\n",
      "2022-09-21 22:52:48.851070: I tensorflow/stream_executor/platform/default/dso_loader.cc:44] Successfully opened dynamic library libcusparse.so.10\n",
      "2022-09-21 22:52:48.854691: I tensorflow/stream_executor/platform/default/dso_loader.cc:44] Successfully opened dynamic library libcudnn.so.7\n",
      "2022-09-21 22:52:48.856234: I tensorflow/core/common_runtime/gpu/gpu_device.cc:1703] Adding visible gpu devices: 0\n",
      "2022-09-21 22:52:48.856588: I tensorflow/core/platform/cpu_feature_guard.cc:143] Your CPU supports instructions that this TensorFlow binary was not compiled to use: AVX2 FMA\n",
      "2022-09-21 22:52:48.861982: I tensorflow/core/platform/profile_utils/cpu_utils.cc:102] CPU Frequency: 2596990000 Hz\n",
      "2022-09-21 22:52:48.862868: I tensorflow/compiler/xla/service/service.cc:168] XLA service 0x7fb450000b60 initialized for platform Host (this does not guarantee that XLA will be used). Devices:\n",
      "2022-09-21 22:52:48.862889: I tensorflow/compiler/xla/service/service.cc:176]   StreamExecutor device (0): Host, Default Version\n",
      "2022-09-21 22:52:49.031003: I tensorflow/compiler/xla/service/service.cc:168] XLA service 0x559e75e3d870 initialized for platform CUDA (this does not guarantee that XLA will be used). Devices:\n",
      "2022-09-21 22:52:49.031031: I tensorflow/compiler/xla/service/service.cc:176]   StreamExecutor device (0): Tesla K80, Compute Capability 3.7\n",
      "2022-09-21 22:52:49.031900: I tensorflow/core/common_runtime/gpu/gpu_device.cc:1561] Found device 0 with properties: \n",
      "pciBusID: 0001:00:00.0 name: Tesla K80 computeCapability: 3.7\n",
      "coreClock: 0.8235GHz coreCount: 13 deviceMemorySize: 11.17GiB deviceMemoryBandwidth: 223.96GiB/s\n",
      "2022-09-21 22:52:49.031984: I tensorflow/stream_executor/platform/default/dso_loader.cc:44] Successfully opened dynamic library libcudart.so.10.1\n",
      "2022-09-21 22:52:49.032016: I tensorflow/stream_executor/platform/default/dso_loader.cc:44] Successfully opened dynamic library libcublas.so.10\n",
      "2022-09-21 22:52:49.032042: I tensorflow/stream_executor/platform/default/dso_loader.cc:44] Successfully opened dynamic library libcufft.so.10\n",
      "2022-09-21 22:52:49.032067: I tensorflow/stream_executor/platform/default/dso_loader.cc:44] Successfully opened dynamic library libcurand.so.10\n",
      "2022-09-21 22:52:49.032093: I tensorflow/stream_executor/platform/default/dso_loader.cc:44] Successfully opened dynamic library libcusolver.so.10\n",
      "2022-09-21 22:52:49.032118: I tensorflow/stream_executor/platform/default/dso_loader.cc:44] Successfully opened dynamic library libcusparse.so.10\n",
      "2022-09-21 22:52:49.032143: I tensorflow/stream_executor/platform/default/dso_loader.cc:44] Successfully opened dynamic library libcudnn.so.7\n",
      "2022-09-21 22:52:49.033542: I tensorflow/core/common_runtime/gpu/gpu_device.cc:1703] Adding visible gpu devices: 0\n",
      "2022-09-21 22:52:49.033609: I tensorflow/stream_executor/platform/default/dso_loader.cc:44] Successfully opened dynamic library libcudart.so.10.1\n",
      "2022-09-21 22:52:49.034936: I tensorflow/core/common_runtime/gpu/gpu_device.cc:1102] Device interconnect StreamExecutor with strength 1 edge matrix:\n",
      "2022-09-21 22:52:49.034957: I tensorflow/core/common_runtime/gpu/gpu_device.cc:1108]      0 \n",
      "2022-09-21 22:52:49.034967: I tensorflow/core/common_runtime/gpu/gpu_device.cc:1121] 0:   N \n",
      "2022-09-21 22:52:49.036633: I tensorflow/core/common_runtime/gpu/gpu_device.cc:1247] Created TensorFlow device (/job:localhost/replica:0/task:0/device:GPU:0 with 10699 MB memory) -> physical GPU (device: 0, name: Tesla K80, pci bus id: 0001:00:00.0, compute capability: 3.7)\n"
     ]
    }
   ],
   "source": [
    "VGG_model = Sequential([\n",
    "            Conv2D(32,(3,3),strides=(1, 1),activation='relu',padding='same', input_shape=(image_height, image_width, 3)), \n",
    "            MaxPooling2D(pool_size=(2,2)),\n",
    "            Conv2D(64,(3,3),strides=(1, 1) ,padding='same',activation='relu'),\n",
    "            MaxPooling2D(pool_size=(2,2)),\n",
    "            Conv2D(128,(3,3),strides=(1, 1),padding='same', activation='relu'),\n",
    "            MaxPooling2D(pool_size=(2,2)),\n",
    "            Conv2D(256,(3,3),strides=(1, 1),padding='same', activation='relu'),\n",
    "            MaxPooling2D(pool_size=(2,2)),\n",
    "            Flatten(),\n",
    "            Dense(128, activation='relu'),\n",
    "            Dense(64, activation='relu'),\n",
    "            Dense(3, activation='softmax'),\n",
    "])"
   ]
  },
  {
   "cell_type": "code",
   "execution_count": 14,
   "id": "c00c2b60-2994-48c9-89e7-6e399ad90d52",
   "metadata": {
    "gather": {
     "logged": 1663800775803
    }
   },
   "outputs": [],
   "source": [
    "# compile the model\n",
    "VGG_model.compile(optimizer='adam',\n",
    "                  loss='categorical_crossentropy',\n",
    "                  metrics=['accuracy', f1_metric])"
   ]
  },
  {
   "cell_type": "code",
   "execution_count": 15,
   "id": "69f857c4-74a9-4da7-913e-d9778935fabe",
   "metadata": {
    "gather": {
     "logged": 1663802547794
    }
   },
   "outputs": [
    {
     "name": "stdout",
     "output_type": "stream",
     "text": [
      "Epoch 1/5\n",
      "77/77 [==============================] - 356s 5s/step - loss: 0.6243 - accuracy: 0.7254 - f1_metric: 0.6789 - val_loss: 0.5317 - val_accuracy: 0.8412 - val_f1_metric: 0.825\n",
      "Epoch 2/5\n",
      "77/77 [==============================] - 357s 5s/step - loss: 0.4283 - accuracy: 0.8213 - f1_metric: 0.8191 - val_loss: 0.3562 - val_accuracy: 0.8827 - val_f1_metric: 0.886\n",
      "Epoch 3/5\n",
      "77/77 [==============================] - 347s 5s/step - loss: 0.3792 - accuracy: 0.8427 - f1_metric: 0.8412 - val_loss: 0.2852 - val_accuracy: 0.8990 - val_f1_metric: 0.900\n",
      "Epoch 4/5\n",
      "77/77 [==============================] - 340s 4s/step - loss: 0.3434 - accuracy: 0.8603 - f1_metric: 0.8613 - val_loss: 0.2979 - val_accuracy: 0.9088 - val_f1_metric: 0.909\n",
      "Epoch 5/5\n",
      "77/77 [==============================] - 345s 4s/step - loss: 0.2970 - accuracy: 0.8838 - f1_metric: 0.8826 - val_loss: 0.3602 - val_accuracy: 0.8632 - val_f1_metric: 0.865\n"
     ]
    },
    {
     "name": "stderr",
     "output_type": "stream",
     "text": [
      "2022-09-21 22:52:53.358181: I tensorflow/stream_executor/platform/default/dso_loader.cc:44] Successfully opened dynamic library libcublas.so.10\n",
      "2022-09-21 22:52:56.526474: I tensorflow/stream_executor/platform/default/dso_loader.cc:44] Successfully opened dynamic library libcudnn.so.7\n"
     ]
    }
   ],
   "source": [
    "# train the model\n",
    "VGG_model_fit = VGG_model.fit(train_dataset,\n",
    "                              epochs =10,\n",
    "                              validation_data = test_dataset,\n",
    "                              verbose=1)"
   ]
  },
  {
   "cell_type": "code",
   "execution_count": 16,
   "id": "8e83e859-0e37-4ec8-9441-a0a19b1fae7e",
   "metadata": {
    "gather": {
     "logged": 1663802548333
    }
   },
   "outputs": [
    {
     "data": {
      "image/png": "[encoded data removed]",
      "text/plain": [
       "<Figure size 864x864 with 3 Axes>"
      ]
     },
     "metadata": {
      "needs_background": "light"
     },
     "output_type": "display_data"
    }
   ],
   "source": [
    "# evaluate the training\n",
    "plot_results(VGG_model_fit)"
   ]
  },
  {
   "cell_type": "markdown",
   "id": "9b14fe16-9ec5-426e-942f-63f58e466367",
   "metadata": {},
   "source": [
    "#### 4.2. Transfer learning with ResNet\n",
    "- Optimizer = 'adam'\n",
    "- Loss = 'categorical_crossentropy'\n",
    "- Metrics = 'accuracy', 'f1'\n",
    "\n",
    "F1 score evaluated due to the imbalance of dataset. There are much fewer Covid_19 positive x-rays than normal than pneumonia, which could skew the predictions. F1 score balances the precision and recall for a better evaluation metric.\n",
    "\n",
    "Last layer of resnet removed and the training image set fed in for transfer learning."
   ]
  },
  {
   "cell_type": "code",
   "execution_count": 32,
   "id": "80e68661-751a-40ce-add3-1ff374c77fb8",
   "metadata": {
    "gather": {
     "logged": 1663806037275
    }
   },
   "outputs": [],
   "source": [
    "# resnet\n",
    "transfer_resnet_model = ResNet50(weights='imagenet', \n",
    "                                include_top=False)\n",
    "global_avg_pooling = GlobalAveragePooling2D()(transfer_resnet_model.output)\n",
    "output = Dense(3, activation='softmax')(global_avg_pooling)\n",
    "resnet_model = Model(inputs=transfer_resnet_model.input, \n",
    "                     outputs=output)\n",
    "optimizer = optimizers.Adam(learning_rate=1e-5)\n",
    "\n",
    "resnet_model.compile(loss='categorical_crossentropy', \n",
    "                     optimizer=optimizer, \n",
    "                     metrics=['accuracy', f1_metric])"
   ]
  },
  {
   "cell_type": "code",
   "execution_count": 33,
   "id": "ac4b720d-ce3d-4505-8c3d-fea050703801",
   "metadata": {
    "gather": {
     "logged": 1663807903599
    }
   },
   "outputs": [
    {
     "name": "stdout",
     "output_type": "stream",
     "text": [
      "Epoch 1/5\n",
      "77/77 [==============================] - 367s 5s/step - loss: 0.2804 - accuracy: 0.8971 - f1_metric: 0.8965 - val_loss: 246.4524 - val_accuracy: 0.6946 - val_f1_metric: 0.700\n",
      "Epoch 2/5\n",
      "77/77 [==============================] - 365s 5s/step - loss: 0.1991 - accuracy: 0.9348 - f1_metric: 0.9339 - val_loss: 4.2377 - val_accuracy: 0.2630 - val_f1_metric: 0.265\n",
      "Epoch 3/5\n",
      "77/77 [==============================] - 365s 5s/step - loss: 0.1793 - accuracy: 0.9325 - f1_metric: 0.9336 - val_loss: 1.0583 - val_accuracy: 0.6946 - val_f1_metric: 0.693\n",
      "Epoch 4/5\n",
      "77/77 [==============================] - 360s 5s/step - loss: 0.1524 - accuracy: 0.9444 - f1_metric: 0.9439 - val_loss: 1.5504 - val_accuracy: 0.6946 - val_f1_metric: 0.693\n",
      "Epoch 5/5\n",
      "77/77 [==============================] - 371s 5s/step - loss: 0.1270 - accuracy: 0.9528 - f1_metric: 0.9530 - val_loss: 2.1053 - val_accuracy: 0.0423 - val_f1_metric: 0.047\n"
     ]
    }
   ],
   "source": [
    "# train the model\n",
    "resnet_model_fit = resnet_model.fit(train_dataset, \n",
    "                                    epochs=10, \n",
    "                                    validation_data=test_dataset, \n",
    "                                    verbose=1)"
   ]
  },
  {
   "cell_type": "code",
   "execution_count": 34,
   "id": "898035c4-a88e-4917-8f04-5be6ea55b461",
   "metadata": {
    "gather": {
     "logged": 1663807992659
    }
   },
   "outputs": [
    {
     "data": {
      "image/png": "[encoded data removed]",
      "text/plain": [
       "<Figure size 864x864 with 3 Axes>"
      ]
     },
     "metadata": {
      "needs_background": "light"
     },
     "output_type": "display_data"
    }
   ],
   "source": [
    "# evaluate the training\n",
    "plot_results(resnet_model_fit)"
   ]
  },
  {
   "cell_type": "markdown",
   "id": "0c2b0e40-8437-4a0b-a5b7-72e07da2e1d5",
   "metadata": {},
   "source": [
    "#### 4.3. Hyperparameter Tune Transfer learning with ResNet\n",
    "- Optimizer = 'adam'\n",
    "- Loss = 'categorical_crossentropy'\n",
    "- Metrics = 'accuracy', 'f1'\n",
    "- Dropout = 0.5\n",
    "\n",
    "Dropouts added to reduce overfitting.\n",
    "\n",
    "F1 score evaluated due to the imbalance of dataset. There are much fewer Covid_19 positive x-rays than normal than pneumonia, which could skew the predictions. F1 score balances the precision and recall for a better evaluation metric.\n",
    "\n",
    "Last layer of resnet removed and the training image set fed in for transfer learning.\n",
    "\n",
    "Callback added for earlystopping when minimum val_loss is reached and best model based on val_loss is saved."
   ]
  },
  {
   "cell_type": "code",
   "execution_count": 35,
   "id": "bc23431a-205b-4c07-b19b-73edb53a9f3c",
   "metadata": {
    "gather": {
     "logged": 1663808005584
    }
   },
   "outputs": [],
   "source": [
    "# resnet\n",
    "transfer_resnet_model = ResNet50(weights='imagenet', \n",
    "                                 include_top=False)\n",
    "global_avg_pooling = GlobalAveragePooling2D()(transfer_resnet_model.output)\n",
    "dropout = Dropout(rate=0.5)(global_avg_pooling)\n",
    "output = Dense(3, activation='softmax')(dropout)\n",
    "tune_resnet_model = Model(inputs=transfer_resnet_model.input, \n",
    "                     outputs=output)\n",
    "optimizer = optimizers.Adam(learning_rate=1e-5)\n",
    "\n",
    "tune_resnet_model.compile(loss='categorical_crossentropy', \n",
    "                     optimizer=optimizer, \n",
    "                     metrics=['accuracy', f1_metric])"
   ]
  },
  {
   "cell_type": "code",
   "execution_count": 36,
   "id": "873f88b0-944f-4e31-a933-b50379edeb1e",
   "metadata": {
    "gather": {
     "logged": 1663808007361
    }
   },
   "outputs": [],
   "source": [
    "callback = EarlyStopping(monitor='val_loss', \n",
    "                         mode='min', \n",
    "                         patience=2)"
   ]
  },
  {
   "cell_type": "code",
   "execution_count": 37,
   "id": "8a161d4f-8bdf-42af-86aa-a0a2b366d67c",
   "metadata": {
    "gather": {
     "logged": 1663803889066
    }
   },
   "outputs": [
    {
     "name": "stdout",
     "output_type": "stream",
     "text": [
      "Epoch 1/5\n",
      "77/77 [==============================] - 374s 5s/step - loss: 0.3161 - accuracy: 0.8896 - f1_metric: 0.8879 - val_loss: 11.9685 - val_accuracy: 0.6946 - val_f1_metric: 0.69\n",
      "Epoch 2/5\n",
      "77/77 [==============================] - ETA: 0s - loss: 0.1939 - accuracy: 0.9284 - f1_metric: 0.92919"
     ]
    }
   ],
   "source": [
    "# train the model\n",
    "tune_resnet_model_fit = tune_resnet_model.fit(train_dataset, \n",
    "                                              epochs=10, \n",
    "                                              validation_data=test_dataset,\n",
    "                                              callbacks=[callback],\n",
    "                                              verbose=1)"
   ]
  },
  {
   "cell_type": "code",
   "execution_count": null,
   "id": "9879d21f-f2d7-4922-a05b-a42d5db0a040",
   "metadata": {
    "gather": {
     "logged": 1663803889077
    }
   },
   "outputs": [],
   "source": [
    "# evaluate the training\n",
    "plot_results(tune_resnet_model_fit)"
   ]
  },
  {
   "cell_type": "markdown",
   "id": "162c24df-8181-4d50-a0f3-8d3c12b9d9a6",
   "metadata": {},
   "source": [
    "### <ins>5. Recommended Model</ins>\n",
    "\n",
    "Highest F1 scores are from the tuned transfer learning reset model. Since the dataset is imbalanced with a lot more pneumonia than normal than Covid-19 images, F1 is a better metric for performance evaluation.\n"
   ]
  },
  {
   "cell_type": "markdown",
   "id": "b134e815-e3cd-4bdc-b8e0-a61c636ec16c",
   "metadata": {
    "nteract": {
     "transient": {
      "deleting": false
     }
    }
   },
   "source": [
    "### <ins>6. Key Findings</ins>\n",
    "\n",
    "The dataset available is imbalanced, accuracy alone would provide a skewed interpretation. So evaluations were made on the F1 metric that balances precision and recall.\n",
    "\n",
    "The loss vs epoch, accuracy vs epoch and f1 vs epoch plots for both training and validation dataset are clearly in the early states of computation given the low number of epoch assigned, so the actual minimum loss/val_loss may result in different F1 scores for the 3 models.\n",
    "\n",
    "Simpler VGG16 though performed well with higher F1 scores and may still be applicable if small model size is a criteria especially for local inferences in mobile apps like smart phones, tablets where internet availability is poor in remote areas but diagnosis is needed.\n"
   ]
  },
  {
   "cell_type": "markdown",
   "id": "bbbe309d-d220-416c-abc4-166dcb314353",
   "metadata": {
    "nteract": {
     "transient": {
      "deleting": false
     }
    }
   },
   "source": [
    "### <ins>7. Next Steps</ins>\n",
    "- The number of epochs were intentionally set to low values due to the length computation time, even with GPU. Given more resources, namely time and better GPU, higher epochs can be used to further improve on the F1 performance metrics and actually reach minimum loss.\n",
    "- Dynamically vary the learning rate to get reduced when val_loss does not reduce after a number of iterations.\n",
    "- More Covid-19 images can be added to give a more balanced dataset. More augmentations to the data can be introduced with more complex image manipulations like adding noise and adjusting contrast. \n",
    "- Other more advance deep learning models, like Inception and Xception, can explored with transfer learning to reduce training time, especially with more data and augmentations."
   ]
  }
 ],
 "metadata": {
  "kernel_info": {
   "name": "python38-azureml"
  },
  "kernelspec": {
   "display_name": "ibm",
   "language": "python",
   "name": "ibm"
  },
  "language_info": {
   "codemirror_mode": {
    "name": "ipython",
    "version": 3
   },
   "file_extension": ".py",
   "mimetype": "text/x-python",
   "name": "python",
   "nbconvert_exporter": "python",
   "pygments_lexer": "ipython3",
   "version": "3.9.12"
  },
  "microsoft": {
   "host": {
    "AzureML": {
     "notebookHasBeenCompleted": true
    }
   }
  },
  "nteract": {
   "version": "nteract-front-end@1.0.0"
  }
 },
 "nbformat": 4,
 "nbformat_minor": 5
}
