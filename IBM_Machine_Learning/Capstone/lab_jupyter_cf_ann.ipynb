{
 "cells": [
  {
   "cell_type": "markdown",
   "metadata": {},
   "source": [
    "<p style=\"text-align:center\">\n",
    "    <a href=\"https://skills.network/?utm_medium=Exinfluencer&utm_source=Exinfluencer&utm_content=000026UJ&utm_term=10006555&utm_id=NA-SkillsNetwork-Channel-SkillsNetworkCoursesIBMML321ENSkillsNetwork32585014-2022-01-01\" target=\"_blank\">\n",
    "    <img src=\"https://cf-courses-data.s3.us.cloud-object-storage.appdomain.cloud/assets/logos/SN_web_lightmode.png\" width=\"200\" alt=\"Skills Network Logo\"  />\n",
    "    </a>\n",
    "</p>\n"
   ]
  },
  {
   "cell_type": "markdown",
   "metadata": {},
   "source": [
    "# **Course Rating Prediction using Neural Networks**\n"
   ]
  },
  {
   "cell_type": "markdown",
   "metadata": {},
   "source": [
    "Estimated time needed: **60** minutes\n"
   ]
  },
  {
   "cell_type": "markdown",
   "metadata": {},
   "source": [
    "In the previous labs, we have crafted several types of user and item feature vectors.  For example, given a user `i`, we may build its profile feature vector and course rating feature vector, and given an item `j`, we may create its genre vector and user enrollment vectors.\n"
   ]
  },
  {
   "cell_type": "markdown",
   "metadata": {},
   "source": [
    "With these explicit features vectors, we can perform machine learning tasks such as calculating the similarities among users or items, finding nearest neighbors, and using dot-product to estimate a rating value.\n",
    "\n",
    "The main advantage of using these explicit features is they are highly interpretable and yield very good performance as well. The main disadvantage is we need to spend quite some effort to build and store them.\n"
   ]
  },
  {
   "cell_type": "markdown",
   "metadata": {},
   "source": [
    "![](https://cf-courses-data.s3.us.cloud-object-storage.appdomain.cloud/IBM-ML321EN-SkillsNetwork/labs/module\\_4/images/explicit_user_item_features.png)\n"
   ]
  },
  {
   "cell_type": "markdown",
   "metadata": {},
   "source": [
    "Is it possible to predict a rating without building explicit feature vectors beforehand?\n",
    "\n",
    "Yes, as you may recall, the Non-negative Matrix Factorization decomposes the user-item interaction matrix into user matrix and item matrix, which contain the latent features of users and items and you can simply dot-product them to get an estimated rating.\n"
   ]
  },
  {
   "cell_type": "markdown",
   "metadata": {},
   "source": [
    "![](https://cf-courses-data.s3.us.cloud-object-storage.appdomain.cloud/IBM-ML321EN-SkillsNetwork/labs/module\\_4/images/nmf.png)\n"
   ]
  },
  {
   "cell_type": "markdown",
   "metadata": {},
   "source": [
    "In addition to NMF, neural networks can also be used to extract the latent user and item features?  In fact,  neural networks are very good at learning patterns from data and are widely used to extract latent features.  When training neural networks, it gradually captures and stores the features within its hidden layers as weight matrices and can be extracted to represent the original data.\n"
   ]
  },
  {
   "cell_type": "markdown",
   "metadata": {},
   "source": [
    "In this lab, you will be training neural networks to predict course ratings while simultaneously extracting users' and items' latent features.\n"
   ]
  },
  {
   "cell_type": "markdown",
   "metadata": {},
   "source": [
    "## Objectives\n"
   ]
  },
  {
   "cell_type": "markdown",
   "metadata": {},
   "source": [
    "After completing this lab you will be able to:\n"
   ]
  },
  {
   "cell_type": "markdown",
   "metadata": {},
   "source": [
    "*   Use `tensorflow` to train neural networks to extract the user and item latent features from the hidden's layers\n",
    "*   Predict course ratings with trained neural networks\n"
   ]
  },
  {
   "cell_type": "markdown",
   "metadata": {},
   "source": [
    "***\n"
   ]
  },
  {
   "cell_type": "markdown",
   "metadata": {},
   "source": [
    "## Prepare and setup lab environment\n"
   ]
  },
  {
   "cell_type": "markdown",
   "metadata": {},
   "source": [
    "Install tensorflow 2.7 if not installed before in your Python environment\n"
   ]
  },
  {
   "cell_type": "code",
   "execution_count": null,
   "metadata": {},
   "outputs": [],
   "source": [
    "# !pip install tensorflow==2.7.0"
   ]
  },
  {
   "cell_type": "markdown",
   "metadata": {},
   "source": [
    "and import required libraries:\n"
   ]
  },
  {
   "cell_type": "code",
   "execution_count": 16,
   "metadata": {},
   "outputs": [],
   "source": [
    "import pandas as pd\n",
    "import tensorflow as tf\n",
    "import matplotlib.pyplot as plt\n",
    "\n",
    "from tensorflow import keras\n",
    "from tensorflow.keras import layers"
   ]
  },
  {
   "cell_type": "code",
   "execution_count": 2,
   "metadata": {},
   "outputs": [],
   "source": [
    "# also set a random state\n",
    "rs = 123"
   ]
  },
  {
   "cell_type": "markdown",
   "metadata": {},
   "source": [
    "### Load and processing rating dataset\n"
   ]
  },
  {
   "cell_type": "code",
   "execution_count": 3,
   "metadata": {},
   "outputs": [
    {
     "data": {
      "text/html": [
       "<div>\n",
       "<style scoped>\n",
       "    .dataframe tbody tr th:only-of-type {\n",
       "        vertical-align: middle;\n",
       "    }\n",
       "\n",
       "    .dataframe tbody tr th {\n",
       "        vertical-align: top;\n",
       "    }\n",
       "\n",
       "    .dataframe thead th {\n",
       "        text-align: right;\n",
       "    }\n",
       "</style>\n",
       "<table border=\"1\" class=\"dataframe\">\n",
       "  <thead>\n",
       "    <tr style=\"text-align: right;\">\n",
       "      <th></th>\n",
       "      <th>user</th>\n",
       "      <th>item</th>\n",
       "      <th>rating</th>\n",
       "    </tr>\n",
       "  </thead>\n",
       "  <tbody>\n",
       "    <tr>\n",
       "      <th>0</th>\n",
       "      <td>1889878</td>\n",
       "      <td>CC0101EN</td>\n",
       "      <td>3.0</td>\n",
       "    </tr>\n",
       "    <tr>\n",
       "      <th>1</th>\n",
       "      <td>1342067</td>\n",
       "      <td>CL0101EN</td>\n",
       "      <td>3.0</td>\n",
       "    </tr>\n",
       "    <tr>\n",
       "      <th>2</th>\n",
       "      <td>1990814</td>\n",
       "      <td>ML0120ENv3</td>\n",
       "      <td>3.0</td>\n",
       "    </tr>\n",
       "    <tr>\n",
       "      <th>3</th>\n",
       "      <td>380098</td>\n",
       "      <td>BD0211EN</td>\n",
       "      <td>3.0</td>\n",
       "    </tr>\n",
       "    <tr>\n",
       "      <th>4</th>\n",
       "      <td>779563</td>\n",
       "      <td>DS0101EN</td>\n",
       "      <td>3.0</td>\n",
       "    </tr>\n",
       "  </tbody>\n",
       "</table>\n",
       "</div>"
      ],
      "text/plain": [
       "      user        item  rating\n",
       "0  1889878    CC0101EN     3.0\n",
       "1  1342067    CL0101EN     3.0\n",
       "2  1990814  ML0120ENv3     3.0\n",
       "3   380098    BD0211EN     3.0\n",
       "4   779563    DS0101EN     3.0"
      ]
     },
     "execution_count": 3,
     "metadata": {},
     "output_type": "execute_result"
    }
   ],
   "source": [
    "rating_url = \"https://cf-courses-data.s3.us.cloud-object-storage.appdomain.cloud/IBM-ML321EN-SkillsNetwork/labs/datasets/ratings.csv\"\n",
    "rating_df = pd.read_csv(rating_url)\n",
    "rating_df.head()"
   ]
  },
  {
   "cell_type": "markdown",
   "metadata": {},
   "source": [
    "This is the same rating dataset we have been using in previous lab, which contains the three main columns: `user`, `item`, and `rating`.\n"
   ]
  },
  {
   "cell_type": "markdown",
   "metadata": {},
   "source": [
    "Next, let's figure out how many unique users and items, their total numbers will determine the sizes of one-hot encoding vectors.\n"
   ]
  },
  {
   "cell_type": "code",
   "execution_count": 4,
   "metadata": {},
   "outputs": [
    {
     "name": "stdout",
     "output_type": "stream",
     "text": [
      "There are total `33901` of users and `126` items\n"
     ]
    }
   ],
   "source": [
    "num_users = len(rating_df['user'].unique())\n",
    "num_items = len(rating_df['item'].unique())\n",
    "print(f\"There are total `{num_users}` of users and `{num_items}` items\")"
   ]
  },
  {
   "cell_type": "markdown",
   "metadata": {},
   "source": [
    "It means our each user can be represented as a `33901 x 1` one-hot vector and each item can be represented as `126 x 1` one-hot vector.\n"
   ]
  },
  {
   "cell_type": "markdown",
   "metadata": {},
   "source": [
    "The goal is to create a neural network structure that can take the user and item one-hot vectors as inputs and outputs a rating estimation or the probability of interaction (such as the probability of completing a course).\n",
    "\n",
    "While training and updating the weights in the neural network, its hidden layers should be able to capture the pattern or features for each user and item. Based on this idea, we can design a simple neural network architecture like the following:\n"
   ]
  },
  {
   "cell_type": "markdown",
   "metadata": {},
   "source": [
    "![](https://cf-courses-data.s3.us.cloud-object-storage.appdomain.cloud/IBM-ML321EN-SkillsNetwork/labs/module\\_4/images/embedding_feature_vector.png)\n"
   ]
  },
  {
   "cell_type": "markdown",
   "metadata": {},
   "source": [
    "The network inputs are two one-hot encoding vectors, the blue one is for the user and the green one is for the item. Then on top of them, we added two embedding layers. Here embedding means embedding the one-hot encoding vector into a latent feature space. The embedding layer is a fully-connected layer that outputs the embedding feature vectors. For example, the user embedding layer takes `33901 x 1` one-hot vector as input and outputs a `16 x 1` embedding vector.\n"
   ]
  },
  {
   "cell_type": "markdown",
   "metadata": {},
   "source": [
    "The embedding layer outputs two embedding vectors, which are similar to Non-negative matrix factorization. Then we could simply dot the product the user and item embedding vector to output a rating estimation.\n"
   ]
  },
  {
   "cell_type": "markdown",
   "metadata": {},
   "source": [
    "#### Implementing the recommender neural network using tensorflow\n"
   ]
  },
  {
   "cell_type": "markdown",
   "metadata": {},
   "source": [
    "This network architecture could be defined and implemented as a sub-class inheriting the `tensorflow.keras.Model` super class, let's call it `RecommenderNet()`.\n"
   ]
  },
  {
   "cell_type": "code",
   "execution_count": 5,
   "metadata": {},
   "outputs": [],
   "source": [
    "class RecommenderNet(keras.Model):\n",
    "    \n",
    "    def __init__(self, num_users, num_items, embedding_size=16, **kwargs):\n",
    "        \"\"\"\n",
    "           Constructor\n",
    "           :param int num_users: number of users\n",
    "           :param int num_items: number of items\n",
    "           :param int embedding_size: the size of embedding vector\n",
    "        \"\"\"\n",
    "        super(RecommenderNet, self).__init__(**kwargs)\n",
    "        self.num_users = num_users\n",
    "        self.num_items = num_items\n",
    "        self.embedding_size = embedding_size\n",
    "        \n",
    "        # Define a user_embedding vector\n",
    "        # Input dimension is the num_users\n",
    "        # Output dimension is the embedding size\n",
    "        self.user_embedding_layer = layers.Embedding(\n",
    "            input_dim=num_users,\n",
    "            output_dim=embedding_size,\n",
    "            name='user_embedding_layer',\n",
    "            embeddings_initializer=\"he_normal\",\n",
    "            embeddings_regularizer=keras.regularizers.l2(1e-6),\n",
    "        )\n",
    "        # Define a user bias layer\n",
    "        self.user_bias = layers.Embedding(\n",
    "            input_dim=num_users,\n",
    "            output_dim=1,\n",
    "            name=\"user_bias\")\n",
    "        \n",
    "        # Define an item_embedding vector\n",
    "        # Input dimension is the num_items\n",
    "        # Output dimension is the embedding size\n",
    "        self.item_embedding_layer = layers.Embedding(\n",
    "            input_dim=num_items,\n",
    "            output_dim=embedding_size,\n",
    "            name='item_embedding_layer',\n",
    "            embeddings_initializer=\"he_normal\",\n",
    "            embeddings_regularizer=keras.regularizers.l2(1e-6),\n",
    "        )\n",
    "        # Define an item bias layer\n",
    "        self.item_bias = layers.Embedding(\n",
    "            input_dim=num_items,\n",
    "            output_dim=1,\n",
    "            name=\"item_bias\")\n",
    "        \n",
    "    def call(self, inputs):\n",
    "        \"\"\"\n",
    "           method to be called during model fitting\n",
    "           \n",
    "           :param inputs: user and item one-hot vectors\n",
    "        \"\"\"\n",
    "        # Compute the user embedding vector\n",
    "        user_vector = self.user_embedding_layer(inputs[:, 0])\n",
    "        user_bias = self.user_bias(inputs[:, 0])\n",
    "        item_vector = self.item_embedding_layer(inputs[:, 1])\n",
    "        item_bias = self.item_bias(inputs[:, 1])\n",
    "        dot_user_item = tf.tensordot(user_vector, item_vector, 2)\n",
    "        # Add all the components (including bias)\n",
    "        x = dot_user_item + user_bias + item_bias\n",
    "        # Sigmoid output layer to output the probability\n",
    "        return tf.nn.relu(x)"
   ]
  },
  {
   "cell_type": "markdown",
   "metadata": {},
   "source": [
    "### TASK: Train and evaluate the RecommenderNet()\n"
   ]
  },
  {
   "cell_type": "markdown",
   "metadata": {},
   "source": [
    "Now it's time to train and evaluate the defined `RecommenderNet()`. First, we need to process the original rating dataset a little bit by converting the actual user ids and item ids into integer indices for `tensorflow` to creating the one-hot encoding vectors.\n"
   ]
  },
  {
   "cell_type": "code",
   "execution_count": 6,
   "metadata": {},
   "outputs": [],
   "source": [
    "def process_dataset(raw_data):\n",
    "    \n",
    "    encoded_data = raw_data.copy()\n",
    "    \n",
    "    # Mapping user ids to indices\n",
    "    user_list = encoded_data[\"user\"].unique().tolist()\n",
    "    user_id2idx_dict = {x: i for i, x in enumerate(user_list)}\n",
    "    user_idx2id_dict = {i: x for i, x in enumerate(user_list)}\n",
    "    \n",
    "    # Mapping course ids to indices\n",
    "    course_list = encoded_data[\"item\"].unique().tolist()\n",
    "    course_id2idx_dict = {x: i for i, x in enumerate(course_list)}\n",
    "    course_idx2id_dict = {i: x for i, x in enumerate(course_list)}\n",
    "\n",
    "    # Convert original user ids to idx\n",
    "    encoded_data[\"user\"] = encoded_data[\"user\"].map(user_id2idx_dict)\n",
    "    # Convert original course ids to idx\n",
    "    encoded_data[\"item\"] = encoded_data[\"item\"].map(course_id2idx_dict)\n",
    "    # Convert rating to int\n",
    "    encoded_data[\"rating\"] = encoded_data[\"rating\"].values.astype(\"int\")\n",
    "\n",
    "    return encoded_data, user_idx2id_dict, course_idx2id_dict"
   ]
  },
  {
   "cell_type": "code",
   "execution_count": 7,
   "metadata": {},
   "outputs": [],
   "source": [
    "encoded_data, user_idx2id_dict, course_idx2id_dict = process_dataset(rating_df)"
   ]
  },
  {
   "cell_type": "code",
   "execution_count": 8,
   "metadata": {},
   "outputs": [
    {
     "data": {
      "text/html": [
       "<div>\n",
       "<style scoped>\n",
       "    .dataframe tbody tr th:only-of-type {\n",
       "        vertical-align: middle;\n",
       "    }\n",
       "\n",
       "    .dataframe tbody tr th {\n",
       "        vertical-align: top;\n",
       "    }\n",
       "\n",
       "    .dataframe thead th {\n",
       "        text-align: right;\n",
       "    }\n",
       "</style>\n",
       "<table border=\"1\" class=\"dataframe\">\n",
       "  <thead>\n",
       "    <tr style=\"text-align: right;\">\n",
       "      <th></th>\n",
       "      <th>user</th>\n",
       "      <th>item</th>\n",
       "      <th>rating</th>\n",
       "    </tr>\n",
       "  </thead>\n",
       "  <tbody>\n",
       "    <tr>\n",
       "      <th>0</th>\n",
       "      <td>0</td>\n",
       "      <td>0</td>\n",
       "      <td>3</td>\n",
       "    </tr>\n",
       "    <tr>\n",
       "      <th>1</th>\n",
       "      <td>1</td>\n",
       "      <td>1</td>\n",
       "      <td>3</td>\n",
       "    </tr>\n",
       "    <tr>\n",
       "      <th>2</th>\n",
       "      <td>2</td>\n",
       "      <td>2</td>\n",
       "      <td>3</td>\n",
       "    </tr>\n",
       "    <tr>\n",
       "      <th>3</th>\n",
       "      <td>3</td>\n",
       "      <td>3</td>\n",
       "      <td>3</td>\n",
       "    </tr>\n",
       "    <tr>\n",
       "      <th>4</th>\n",
       "      <td>4</td>\n",
       "      <td>4</td>\n",
       "      <td>3</td>\n",
       "    </tr>\n",
       "  </tbody>\n",
       "</table>\n",
       "</div>"
      ],
      "text/plain": [
       "   user  item  rating\n",
       "0     0     0       3\n",
       "1     1     1       3\n",
       "2     2     2       3\n",
       "3     3     3       3\n",
       "4     4     4       3"
      ]
     },
     "execution_count": 8,
     "metadata": {},
     "output_type": "execute_result"
    }
   ],
   "source": [
    "encoded_data.head()"
   ]
  },
  {
   "cell_type": "markdown",
   "metadata": {},
   "source": [
    "Then we can split the encoded dataset into training and testing datasets.\n"
   ]
  },
  {
   "cell_type": "code",
   "execution_count": 9,
   "metadata": {},
   "outputs": [],
   "source": [
    "def generate_train_test_datasets(dataset, scale=True):\n",
    "\n",
    "    min_rating = min(dataset[\"rating\"])\n",
    "    max_rating = max(dataset[\"rating\"])\n",
    "\n",
    "    dataset = dataset.sample(frac=1, random_state=42)\n",
    "    x = dataset[[\"user\", \"item\"]].values\n",
    "    if scale:\n",
    "        y = dataset[\"rating\"].apply(lambda x: (x - min_rating) / (max_rating - min_rating)).values\n",
    "    else:\n",
    "        y = dataset[\"rating\"].values\n",
    "\n",
    "    # Assuming training on 80% of the data and validating on 10%, and testing 10%\n",
    "    train_indices = int(0.8 * dataset.shape[0])\n",
    "    test_indices = int(0.9 * dataset.shape[0])\n",
    "\n",
    "    x_train, x_val, x_test, y_train, y_val, y_test = (\n",
    "        x[:train_indices],\n",
    "        x[train_indices:test_indices],\n",
    "        x[test_indices:],\n",
    "        y[:train_indices],\n",
    "        y[train_indices:test_indices],\n",
    "        y[test_indices:],\n",
    "    )\n",
    "    return x_train, x_val, x_test, y_train, y_val, y_test"
   ]
  },
  {
   "cell_type": "code",
   "execution_count": 10,
   "metadata": {},
   "outputs": [],
   "source": [
    "x_train, x_val, x_test, y_train, y_val, y_test = generate_train_test_datasets(encoded_data)"
   ]
  },
  {
   "cell_type": "markdown",
   "metadata": {},
   "source": [
    "If we take a look at the training input data, it is simply just a list of user indices and item indices, which is a dense format of one-hot encoding vectors.\n"
   ]
  },
  {
   "cell_type": "code",
   "execution_count": 11,
   "metadata": {},
   "outputs": [
    {
     "data": {
      "text/plain": [
       "array([ 8376,  7659, 10717, ...,  3409, 28761,  4973], dtype=int64)"
      ]
     },
     "execution_count": 11,
     "metadata": {},
     "output_type": "execute_result"
    }
   ],
   "source": [
    "user_indices = x_train[:, 0]\n",
    "user_indices"
   ]
  },
  {
   "cell_type": "code",
   "execution_count": 12,
   "metadata": {},
   "outputs": [
    {
     "data": {
      "text/plain": [
       "array([12, 29,  3, ..., 18, 19, 17], dtype=int64)"
      ]
     },
     "execution_count": 12,
     "metadata": {},
     "output_type": "execute_result"
    }
   ],
   "source": [
    "item_indices = x_train[:, 1]\n",
    "item_indices"
   ]
  },
  {
   "cell_type": "markdown",
   "metadata": {},
   "source": [
    "and training output labels are a list of 0s and 1s indicating if the user has completed a course or not.\n"
   ]
  },
  {
   "cell_type": "code",
   "execution_count": 13,
   "metadata": {},
   "outputs": [
    {
     "data": {
      "text/plain": [
       "array([1., 1., 1., ..., 1., 0., 1.])"
      ]
     },
     "execution_count": 13,
     "metadata": {},
     "output_type": "execute_result"
    }
   ],
   "source": [
    "y_train"
   ]
  },
  {
   "cell_type": "markdown",
   "metadata": {},
   "source": [
    "Then we can choose a small embedding vector size to be 16 and create a `RecommenderNet()` model to be trained\n"
   ]
  },
  {
   "cell_type": "code",
   "execution_count": 14,
   "metadata": {},
   "outputs": [],
   "source": [
    "embedding_size = 16\n",
    "model = RecommenderNet(num_users, num_items, embedding_size)"
   ]
  },
  {
   "cell_type": "markdown",
   "metadata": {},
   "source": [
    "*TODO: Train the RecommenderNet() model*\n"
   ]
  },
  {
   "cell_type": "code",
   "execution_count": 39,
   "metadata": {},
   "outputs": [
    {
     "name": "stdout",
     "output_type": "stream",
     "text": [
      "Epoch 1/50\n",
      "364/365 [============================>.] - ETA: 0s - loss: 0.0086 - root_mean_squared_error: 0.0798\n",
      "Epoch 1: val_loss improved from inf to 0.01755, saving model to model_1\n",
      "INFO:tensorflow:Assets written to: model_1\\assets\n",
      "365/365 [==============================] - 6s 13ms/step - loss: 0.0086 - root_mean_squared_error: 0.0797 - val_loss: 0.0175 - val_root_mean_squared_error: 0.1237\n",
      "Epoch 2/50\n",
      "361/365 [============================>.] - ETA: 0s - loss: 0.0084 - root_mean_squared_error: 0.0782\n",
      "Epoch 2: val_loss improved from 0.01755 to 0.01744, saving model to model_2\n",
      "INFO:tensorflow:Assets written to: model_2\\assets\n",
      "365/365 [==============================] - 4s 12ms/step - loss: 0.0083 - root_mean_squared_error: 0.0781 - val_loss: 0.0174 - val_root_mean_squared_error: 0.1233\n",
      "Epoch 3/50\n",
      "363/365 [============================>.] - ETA: 0s - loss: 0.0079 - root_mean_squared_error: 0.0750\n",
      "Epoch 3: val_loss improved from 0.01744 to 0.01725, saving model to model_3\n",
      "INFO:tensorflow:Assets written to: model_3\\assets\n",
      "365/365 [==============================] - 4s 11ms/step - loss: 0.0079 - root_mean_squared_error: 0.0750 - val_loss: 0.0173 - val_root_mean_squared_error: 0.1226\n",
      "Epoch 4/50\n",
      "363/365 [============================>.] - ETA: 0s - loss: 0.0074 - root_mean_squared_error: 0.0718\n",
      "Epoch 4: val_loss improved from 0.01725 to 0.01711, saving model to model_4\n",
      "INFO:tensorflow:Assets written to: model_4\\assets\n",
      "365/365 [==============================] - 4s 11ms/step - loss: 0.0074 - root_mean_squared_error: 0.0718 - val_loss: 0.0171 - val_root_mean_squared_error: 0.1220\n",
      "Epoch 5/50\n",
      "365/365 [==============================] - ETA: 0s - loss: 0.0075 - root_mean_squared_error: 0.0725\n",
      "Epoch 5: val_loss improved from 0.01711 to 0.01698, saving model to model_5\n",
      "INFO:tensorflow:Assets written to: model_5\\assets\n",
      "365/365 [==============================] - 4s 11ms/step - loss: 0.0075 - root_mean_squared_error: 0.0725 - val_loss: 0.0170 - val_root_mean_squared_error: 0.1215\n",
      "Epoch 6/50\n",
      "359/365 [============================>.] - ETA: 0s - loss: 0.0070 - root_mean_squared_error: 0.0690\n",
      "Epoch 6: val_loss improved from 0.01698 to 0.01685, saving model to model_6\n",
      "INFO:tensorflow:Assets written to: model_6\\assets\n",
      "365/365 [==============================] - 4s 11ms/step - loss: 0.0070 - root_mean_squared_error: 0.0694 - val_loss: 0.0168 - val_root_mean_squared_error: 0.1210\n",
      "Epoch 7/50\n",
      "358/365 [============================>.] - ETA: 0s - loss: 0.0068 - root_mean_squared_error: 0.0681\n",
      "Epoch 7: val_loss improved from 0.01685 to 0.01670, saving model to model_7\n",
      "INFO:tensorflow:Assets written to: model_7\\assets\n",
      "365/365 [==============================] - 4s 11ms/step - loss: 0.0068 - root_mean_squared_error: 0.0680 - val_loss: 0.0167 - val_root_mean_squared_error: 0.1205\n",
      "Epoch 8/50\n",
      "358/365 [============================>.] - ETA: 0s - loss: 0.0066 - root_mean_squared_error: 0.0667\n",
      "Epoch 8: val_loss improved from 0.01670 to 0.01658, saving model to model_8\n",
      "INFO:tensorflow:Assets written to: model_8\\assets\n",
      "365/365 [==============================] - 4s 11ms/step - loss: 0.0066 - root_mean_squared_error: 0.0668 - val_loss: 0.0166 - val_root_mean_squared_error: 0.1201\n",
      "Epoch 9/50\n",
      "360/365 [============================>.] - ETA: 0s - loss: 0.0065 - root_mean_squared_error: 0.0662\n",
      "Epoch 9: val_loss improved from 0.01658 to 0.01643, saving model to model_9\n",
      "INFO:tensorflow:Assets written to: model_9\\assets\n",
      "365/365 [==============================] - 4s 11ms/step - loss: 0.0065 - root_mean_squared_error: 0.0662 - val_loss: 0.0164 - val_root_mean_squared_error: 0.1195\n",
      "Epoch 10/50\n",
      "365/365 [==============================] - ETA: 0s - loss: 0.0064 - root_mean_squared_error: 0.0652\n",
      "Epoch 10: val_loss improved from 0.01643 to 0.01615, saving model to model_10\n",
      "INFO:tensorflow:Assets written to: model_10\\assets\n",
      "365/365 [==============================] - 4s 11ms/step - loss: 0.0064 - root_mean_squared_error: 0.0652 - val_loss: 0.0162 - val_root_mean_squared_error: 0.1184\n",
      "Epoch 11/50\n",
      "362/365 [============================>.] - ETA: 0s - loss: 0.0062 - root_mean_squared_error: 0.0638\n",
      "Epoch 11: val_loss improved from 0.01615 to 0.01608, saving model to model_11\n",
      "INFO:tensorflow:Assets written to: model_11\\assets\n",
      "365/365 [==============================] - 4s 11ms/step - loss: 0.0062 - root_mean_squared_error: 0.0637 - val_loss: 0.0161 - val_root_mean_squared_error: 0.1181\n",
      "Epoch 12/50\n",
      "362/365 [============================>.] - ETA: 0s - loss: 0.0061 - root_mean_squared_error: 0.0630\n",
      "Epoch 12: val_loss did not improve from 0.01608\n",
      "365/365 [==============================] - 3s 8ms/step - loss: 0.0061 - root_mean_squared_error: 0.0630 - val_loss: 0.0161 - val_root_mean_squared_error: 0.1182\n",
      "Epoch 13/50\n",
      "364/365 [============================>.] - ETA: 0s - loss: 0.0059 - root_mean_squared_error: 0.0620\n",
      "Epoch 13: val_loss improved from 0.01608 to 0.01594, saving model to model_13\n",
      "INFO:tensorflow:Assets written to: model_13\\assets\n",
      "365/365 [==============================] - 4s 11ms/step - loss: 0.0059 - root_mean_squared_error: 0.0620 - val_loss: 0.0159 - val_root_mean_squared_error: 0.1177\n",
      "Epoch 14/50\n",
      "359/365 [============================>.] - ETA: 0s - loss: 0.0059 - root_mean_squared_error: 0.0617\n",
      "Epoch 14: val_loss improved from 0.01594 to 0.01588, saving model to model_14\n",
      "INFO:tensorflow:Assets written to: model_14\\assets\n",
      "365/365 [==============================] - 4s 12ms/step - loss: 0.0059 - root_mean_squared_error: 0.0617 - val_loss: 0.0159 - val_root_mean_squared_error: 0.1175\n",
      "Epoch 15/50\n",
      "358/365 [============================>.] - ETA: 0s - loss: 0.0057 - root_mean_squared_error: 0.0604\n",
      "Epoch 15: val_loss improved from 0.01588 to 0.01568, saving model to model_15\n",
      "INFO:tensorflow:Assets written to: model_15\\assets\n",
      "365/365 [==============================] - 4s 11ms/step - loss: 0.0057 - root_mean_squared_error: 0.0607 - val_loss: 0.0157 - val_root_mean_squared_error: 0.1167\n",
      "Epoch 16/50\n",
      "360/365 [============================>.] - ETA: 0s - loss: 0.0057 - root_mean_squared_error: 0.0603\n",
      "Epoch 16: val_loss improved from 0.01568 to 0.01566, saving model to model_16\n",
      "INFO:tensorflow:Assets written to: model_16\\assets\n",
      "365/365 [==============================] - 4s 11ms/step - loss: 0.0057 - root_mean_squared_error: 0.0603 - val_loss: 0.0157 - val_root_mean_squared_error: 0.1168\n",
      "Epoch 17/50\n",
      "359/365 [============================>.] - ETA: 0s - loss: 0.0056 - root_mean_squared_error: 0.0596\n",
      "Epoch 17: val_loss improved from 0.01566 to 0.01559, saving model to model_17\n",
      "INFO:tensorflow:Assets written to: model_17\\assets\n",
      "365/365 [==============================] - 4s 11ms/step - loss: 0.0056 - root_mean_squared_error: 0.0597 - val_loss: 0.0156 - val_root_mean_squared_error: 0.1166\n",
      "Epoch 18/50\n",
      "363/365 [============================>.] - ETA: 0s - loss: 0.0055 - root_mean_squared_error: 0.0592\n",
      "Epoch 18: val_loss improved from 0.01559 to 0.01551, saving model to model_18\n",
      "INFO:tensorflow:Assets written to: model_18\\assets\n",
      "365/365 [==============================] - 4s 11ms/step - loss: 0.0055 - root_mean_squared_error: 0.0592 - val_loss: 0.0155 - val_root_mean_squared_error: 0.1164\n",
      "Epoch 19/50\n",
      "365/365 [==============================] - ETA: 0s - loss: 0.0054 - root_mean_squared_error: 0.0587\n",
      "Epoch 19: val_loss improved from 0.01551 to 0.01539, saving model to model_19\n",
      "INFO:tensorflow:Assets written to: model_19\\assets\n",
      "365/365 [==============================] - 4s 11ms/step - loss: 0.0054 - root_mean_squared_error: 0.0587 - val_loss: 0.0154 - val_root_mean_squared_error: 0.1160\n",
      "Epoch 20/50\n",
      "365/365 [==============================] - ETA: 0s - loss: 0.0053 - root_mean_squared_error: 0.0581\n",
      "Epoch 20: val_loss improved from 0.01539 to 0.01517, saving model to model_20\n",
      "INFO:tensorflow:Assets written to: model_20\\assets\n",
      "365/365 [==============================] - 4s 11ms/step - loss: 0.0053 - root_mean_squared_error: 0.0581 - val_loss: 0.0152 - val_root_mean_squared_error: 0.1152\n",
      "Epoch 21/50\n",
      "365/365 [==============================] - ETA: 0s - loss: 0.0052 - root_mean_squared_error: 0.0578\n",
      "Epoch 21: val_loss did not improve from 0.01517\n",
      "365/365 [==============================] - 3s 8ms/step - loss: 0.0052 - root_mean_squared_error: 0.0578 - val_loss: 0.0152 - val_root_mean_squared_error: 0.1154\n",
      "Epoch 22/50\n",
      "361/365 [============================>.] - ETA: 0s - loss: 0.0052 - root_mean_squared_error: 0.0574\n",
      "Epoch 22: val_loss improved from 0.01517 to 0.01508, saving model to model_22\n",
      "INFO:tensorflow:Assets written to: model_22\\assets\n",
      "365/365 [==============================] - 4s 11ms/step - loss: 0.0052 - root_mean_squared_error: 0.0574 - val_loss: 0.0151 - val_root_mean_squared_error: 0.1150\n",
      "Epoch 23/50\n",
      "359/365 [============================>.] - ETA: 0s - loss: 0.0051 - root_mean_squared_error: 0.0570\n",
      "Epoch 23: val_loss improved from 0.01508 to 0.01492, saving model to model_23\n",
      "INFO:tensorflow:Assets written to: model_23\\assets\n",
      "365/365 [==============================] - 4s 11ms/step - loss: 0.0051 - root_mean_squared_error: 0.0569 - val_loss: 0.0149 - val_root_mean_squared_error: 0.1146\n",
      "Epoch 24/50\n",
      "359/365 [============================>.] - ETA: 0s - loss: 0.0050 - root_mean_squared_error: 0.0567\n",
      "Epoch 24: val_loss did not improve from 0.01492\n",
      "365/365 [==============================] - 3s 8ms/step - loss: 0.0050 - root_mean_squared_error: 0.0568 - val_loss: 0.0149 - val_root_mean_squared_error: 0.1147\n",
      "Epoch 25/50\n",
      "359/365 [============================>.] - ETA: 0s - loss: 0.0049 - root_mean_squared_error: 0.0560\n",
      "Epoch 25: val_loss improved from 0.01492 to 0.01481, saving model to model_25\n",
      "INFO:tensorflow:Assets written to: model_25\\assets\n",
      "365/365 [==============================] - 4s 11ms/step - loss: 0.0049 - root_mean_squared_error: 0.0562 - val_loss: 0.0148 - val_root_mean_squared_error: 0.1144\n",
      "Epoch 26/50\n",
      "363/365 [============================>.] - ETA: 0s - loss: 0.0048 - root_mean_squared_error: 0.0560\n",
      "Epoch 26: val_loss improved from 0.01481 to 0.01477, saving model to model_26\n",
      "INFO:tensorflow:Assets written to: model_26\\assets\n",
      "365/365 [==============================] - 4s 11ms/step - loss: 0.0048 - root_mean_squared_error: 0.0560 - val_loss: 0.0148 - val_root_mean_squared_error: 0.1144\n",
      "Epoch 27/50\n",
      "364/365 [============================>.] - ETA: 0s - loss: 0.0047 - root_mean_squared_error: 0.0555\n",
      "Epoch 27: val_loss improved from 0.01477 to 0.01473, saving model to model_27\n",
      "INFO:tensorflow:Assets written to: model_27\\assets\n",
      "365/365 [==============================] - 4s 11ms/step - loss: 0.0047 - root_mean_squared_error: 0.0556 - val_loss: 0.0147 - val_root_mean_squared_error: 0.1144\n",
      "Epoch 28/50\n",
      "360/365 [============================>.] - ETA: 0s - loss: 0.0047 - root_mean_squared_error: 0.0554\n",
      "Epoch 28: val_loss improved from 0.01473 to 0.01466, saving model to model_28\n",
      "INFO:tensorflow:Assets written to: model_28\\assets\n",
      "365/365 [==============================] - 4s 11ms/step - loss: 0.0047 - root_mean_squared_error: 0.0554 - val_loss: 0.0147 - val_root_mean_squared_error: 0.1143\n",
      "Epoch 29/50\n",
      "363/365 [============================>.] - ETA: 0s - loss: 0.0046 - root_mean_squared_error: 0.0550\n",
      "Epoch 29: val_loss improved from 0.01466 to 0.01460, saving model to model_29\n",
      "INFO:tensorflow:Assets written to: model_29\\assets\n",
      "365/365 [==============================] - 4s 11ms/step - loss: 0.0046 - root_mean_squared_error: 0.0550 - val_loss: 0.0146 - val_root_mean_squared_error: 0.1143\n",
      "Epoch 30/50\n",
      "363/365 [============================>.] - ETA: 0s - loss: 0.0045 - root_mean_squared_error: 0.0548\n",
      "Epoch 30: val_loss improved from 0.01460 to 0.01454, saving model to model_30\n",
      "INFO:tensorflow:Assets written to: model_30\\assets\n",
      "365/365 [==============================] - 4s 11ms/step - loss: 0.0045 - root_mean_squared_error: 0.0548 - val_loss: 0.0145 - val_root_mean_squared_error: 0.1143\n",
      "Epoch 31/50\n",
      "361/365 [============================>.] - ETA: 0s - loss: 0.0044 - root_mean_squared_error: 0.0543\n",
      "Epoch 31: val_loss improved from 0.01454 to 0.01451, saving model to model_31\n",
      "INFO:tensorflow:Assets written to: model_31\\assets\n",
      "365/365 [==============================] - 4s 11ms/step - loss: 0.0044 - root_mean_squared_error: 0.0544 - val_loss: 0.0145 - val_root_mean_squared_error: 0.1143\n",
      "Epoch 32/50\n",
      "362/365 [============================>.] - ETA: 0s - loss: 0.0044 - root_mean_squared_error: 0.0542\n",
      "Epoch 32: val_loss improved from 0.01451 to 0.01437, saving model to model_32\n",
      "INFO:tensorflow:Assets written to: model_32\\assets\n",
      "365/365 [==============================] - 4s 10ms/step - loss: 0.0044 - root_mean_squared_error: 0.0543 - val_loss: 0.0144 - val_root_mean_squared_error: 0.1139\n",
      "Epoch 33/50\n",
      "364/365 [============================>.] - ETA: 0s - loss: 0.0043 - root_mean_squared_error: 0.0538\n",
      "Epoch 33: val_loss improved from 0.01437 to 0.01424, saving model to model_33\n",
      "INFO:tensorflow:Assets written to: model_33\\assets\n",
      "365/365 [==============================] - 4s 10ms/step - loss: 0.0043 - root_mean_squared_error: 0.0538 - val_loss: 0.0142 - val_root_mean_squared_error: 0.1135\n",
      "Epoch 34/50\n",
      "364/365 [============================>.] - ETA: 0s - loss: 0.0042 - root_mean_squared_error: 0.0537\n",
      "Epoch 34: val_loss improved from 0.01424 to 0.01410, saving model to model_34\n",
      "INFO:tensorflow:Assets written to: model_34\\assets\n",
      "365/365 [==============================] - 4s 11ms/step - loss: 0.0042 - root_mean_squared_error: 0.0536 - val_loss: 0.0141 - val_root_mean_squared_error: 0.1131\n",
      "Epoch 35/50\n",
      "363/365 [============================>.] - ETA: 0s - loss: 0.0041 - root_mean_squared_error: 0.0533\n",
      "Epoch 35: val_loss did not improve from 0.01410\n",
      "365/365 [==============================] - 3s 8ms/step - loss: 0.0041 - root_mean_squared_error: 0.0533 - val_loss: 0.0142 - val_root_mean_squared_error: 0.1136\n",
      "Epoch 36/50\n",
      "360/365 [============================>.] - ETA: 0s - loss: 0.0041 - root_mean_squared_error: 0.0531\n",
      "Epoch 36: val_loss improved from 0.01410 to 0.01407, saving model to model_36\n",
      "INFO:tensorflow:Assets written to: model_36\\assets\n",
      "365/365 [==============================] - 4s 11ms/step - loss: 0.0041 - root_mean_squared_error: 0.0532 - val_loss: 0.0141 - val_root_mean_squared_error: 0.1134\n",
      "Epoch 37/50\n",
      "364/365 [============================>.] - ETA: 0s - loss: 0.0040 - root_mean_squared_error: 0.0527\n",
      "Epoch 37: val_loss improved from 0.01407 to 0.01396, saving model to model_37\n",
      "INFO:tensorflow:Assets written to: model_37\\assets\n",
      "365/365 [==============================] - 4s 11ms/step - loss: 0.0040 - root_mean_squared_error: 0.0527 - val_loss: 0.0140 - val_root_mean_squared_error: 0.1131\n",
      "Epoch 38/50\n",
      "361/365 [============================>.] - ETA: 0s - loss: 0.0039 - root_mean_squared_error: 0.0526\n",
      "Epoch 38: val_loss improved from 0.01396 to 0.01386, saving model to model_38\n",
      "INFO:tensorflow:Assets written to: model_38\\assets\n",
      "365/365 [==============================] - 4s 11ms/step - loss: 0.0039 - root_mean_squared_error: 0.0525 - val_loss: 0.0139 - val_root_mean_squared_error: 0.1129\n",
      "Epoch 39/50\n",
      "363/365 [============================>.] - ETA: 0s - loss: 0.0038 - root_mean_squared_error: 0.0522\n",
      "Epoch 39: val_loss did not improve from 0.01386\n",
      "365/365 [==============================] - 3s 8ms/step - loss: 0.0038 - root_mean_squared_error: 0.0523 - val_loss: 0.0139 - val_root_mean_squared_error: 0.1132\n",
      "Epoch 40/50\n",
      "363/365 [============================>.] - ETA: 0s - loss: 0.0038 - root_mean_squared_error: 0.0522\n",
      "Epoch 40: val_loss improved from 0.01386 to 0.01377, saving model to model_40\n",
      "INFO:tensorflow:Assets written to: model_40\\assets\n",
      "365/365 [==============================] - 4s 11ms/step - loss: 0.0038 - root_mean_squared_error: 0.0522 - val_loss: 0.0138 - val_root_mean_squared_error: 0.1129\n",
      "Epoch 41/50\n",
      "359/365 [============================>.] - ETA: 0s - loss: 0.0037 - root_mean_squared_error: 0.0519\n",
      "Epoch 41: val_loss improved from 0.01377 to 0.01376, saving model to model_41\n",
      "INFO:tensorflow:Assets written to: model_41\\assets\n",
      "365/365 [==============================] - 4s 11ms/step - loss: 0.0037 - root_mean_squared_error: 0.0519 - val_loss: 0.0138 - val_root_mean_squared_error: 0.1130\n",
      "Epoch 42/50\n",
      "365/365 [==============================] - ETA: 0s - loss: 0.0036 - root_mean_squared_error: 0.0516\n",
      "Epoch 42: val_loss improved from 0.01376 to 0.01359, saving model to model_42\n",
      "INFO:tensorflow:Assets written to: model_42\\assets\n",
      "365/365 [==============================] - 4s 11ms/step - loss: 0.0036 - root_mean_squared_error: 0.0516 - val_loss: 0.0136 - val_root_mean_squared_error: 0.1124\n",
      "Epoch 43/50\n",
      "362/365 [============================>.] - ETA: 0s - loss: 0.0036 - root_mean_squared_error: 0.0513\n",
      "Epoch 43: val_loss improved from 0.01359 to 0.01349, saving model to model_43\n",
      "INFO:tensorflow:Assets written to: model_43\\assets\n",
      "365/365 [==============================] - 4s 11ms/step - loss: 0.0036 - root_mean_squared_error: 0.0514 - val_loss: 0.0135 - val_root_mean_squared_error: 0.1121\n",
      "Epoch 44/50\n",
      "364/365 [============================>.] - ETA: 0s - loss: 0.0035 - root_mean_squared_error: 0.0512\n",
      "Epoch 44: val_loss improved from 0.01349 to 0.01346, saving model to model_44\n",
      "INFO:tensorflow:Assets written to: model_44\\assets\n",
      "365/365 [==============================] - 4s 11ms/step - loss: 0.0035 - root_mean_squared_error: 0.0511 - val_loss: 0.0135 - val_root_mean_squared_error: 0.1122\n",
      "Epoch 45/50\n",
      "362/365 [============================>.] - ETA: 0s - loss: 0.0035 - root_mean_squared_error: 0.0509\n",
      "Epoch 45: val_loss improved from 0.01346 to 0.01344, saving model to model_45\n",
      "INFO:tensorflow:Assets written to: model_45\\assets\n",
      "365/365 [==============================] - 4s 10ms/step - loss: 0.0035 - root_mean_squared_error: 0.0509 - val_loss: 0.0134 - val_root_mean_squared_error: 0.1122\n",
      "Epoch 46/50\n",
      "362/365 [============================>.] - ETA: 0s - loss: 0.0034 - root_mean_squared_error: 0.0507\n",
      "Epoch 46: val_loss improved from 0.01344 to 0.01343, saving model to model_46\n",
      "INFO:tensorflow:Assets written to: model_46\\assets\n",
      "365/365 [==============================] - 4s 11ms/step - loss: 0.0034 - root_mean_squared_error: 0.0506 - val_loss: 0.0134 - val_root_mean_squared_error: 0.1123\n",
      "Epoch 47/50\n",
      "360/365 [============================>.] - ETA: 0s - loss: 0.0033 - root_mean_squared_error: 0.0503\n",
      "Epoch 47: val_loss improved from 0.01343 to 0.01327, saving model to model_47\n",
      "INFO:tensorflow:Assets written to: model_47\\assets\n",
      "365/365 [==============================] - 4s 11ms/step - loss: 0.0033 - root_mean_squared_error: 0.0505 - val_loss: 0.0133 - val_root_mean_squared_error: 0.1118\n",
      "Epoch 48/50\n",
      "361/365 [============================>.] - ETA: 0s - loss: 0.0033 - root_mean_squared_error: 0.0502\n",
      "Epoch 48: val_loss did not improve from 0.01327\n",
      "365/365 [==============================] - 3s 8ms/step - loss: 0.0033 - root_mean_squared_error: 0.0503 - val_loss: 0.0133 - val_root_mean_squared_error: 0.1120\n",
      "Epoch 49/50\n",
      "364/365 [============================>.] - ETA: 0s - loss: 0.0032 - root_mean_squared_error: 0.0500\n",
      "Epoch 49: val_loss improved from 0.01327 to 0.01319, saving model to model_49\n",
      "INFO:tensorflow:Assets written to: model_49\\assets\n",
      "365/365 [==============================] - 4s 11ms/step - loss: 0.0032 - root_mean_squared_error: 0.0500 - val_loss: 0.0132 - val_root_mean_squared_error: 0.1117\n",
      "Epoch 50/50\n",
      "364/365 [============================>.] - ETA: 0s - loss: 0.0032 - root_mean_squared_error: 0.0497\n",
      "Epoch 50: val_loss improved from 0.01319 to 0.01317, saving model to model_50\n",
      "INFO:tensorflow:Assets written to: model_50\\assets\n",
      "365/365 [==============================] - 4s 11ms/step - loss: 0.0032 - root_mean_squared_error: 0.0497 - val_loss: 0.0132 - val_root_mean_squared_error: 0.1118\n"
     ]
    },
    {
     "data": {
      "text/plain": [
       "<matplotlib.legend.Legend at 0x2149a7459f0>"
      ]
     },
     "execution_count": 39,
     "metadata": {},
     "output_type": "execute_result"
    },
    {
     "data": {
      "image/png": "[encoded data removed]",
      "text/plain": [
       "<Figure size 640x480 with 1 Axes>"
      ]
     },
     "metadata": {},
     "output_type": "display_data"
    }
   ],
   "source": [
    "from tensorflow.keras import optimizers\n",
    "from tensorflow.keras.losses import MeanSquaredError\n",
    "from tensorflow.keras.metrics import RootMeanSquaredError\n",
    "\n",
    "callbacks = [\n",
    "    keras.callbacks.ModelCheckpoint(\n",
    "        filepath=\"model_{epoch}\",\n",
    "        save_best_only=True,\n",
    "        monitor=\"val_loss\",\n",
    "        verbose=1,\n",
    "    )\n",
    "]\n",
    "\n",
    "## - call model.compile() method to set up the loss and optimizer and metrics for the model training, you may use\n",
    "##  - - tf.keras.losses.MeanSquaredError() as training loss\n",
    "##  - - keras.optimizers.Adam() as optimizer\n",
    "##  - - tf.keras.metrics.RootMeanSquaredError() as metric\n",
    "optimizer = optimizers.Adam(learning_rate=1e-4)\n",
    "mse = MeanSquaredError()\n",
    "batchsize=512\n",
    "\n",
    "model.compile(loss=mse,\n",
    "              optimizer=optimizer,\n",
    "              metrics=[RootMeanSquaredError()]\n",
    "             )\n",
    "\n",
    "## - call model.fit() to train the model\n",
    "model_fit = model.fit(x_train,\n",
    "                      y_train,\n",
    "                      batch_size=batchsize,\n",
    "                      epochs=50,\n",
    "                      callbacks=callbacks,\n",
    "                      validation_data=(x_val, y_val)\n",
    "                     )\n",
    "\n",
    "## - optionally call model.save() to save the model\n",
    "\n",
    "## - plot the train and validation loss\n",
    "plt.subplot(1,2,1)\n",
    "plt.plot(model_fit.history['loss'], label='train loss')\n",
    "plt.plot(model_fit.history['val_loss'], label='validation loss')\n",
    "plt.title('Epoch vs Loss')\n",
    "plt.xlabel('epoch')\n",
    "plt.ylabel('loss')\n",
    "plt.legend()"
   ]
  },
  {
   "cell_type": "markdown",
   "metadata": {},
   "source": [
    "*TODO:* Evaluate the trained model\n"
   ]
  },
  {
   "cell_type": "code",
   "execution_count": 40,
   "metadata": {},
   "outputs": [
    {
     "name": "stdout",
     "output_type": "stream",
     "text": [
      "46/46 [==============================] - 0s 5ms/step - loss: 0.0130 - root_mean_squared_error: 0.1108\n",
      "test loss, test rmse:  [0.01297159492969513, 0.1108463853597641]\n"
     ]
    }
   ],
   "source": [
    "### - call model.evaluate() to evaluate the model\n",
    "results = model.evaluate(x_test, y_test, batch_size = batchsize)\n",
    "print(\"test loss, test rmse: \", results)"
   ]
  },
  {
   "cell_type": "markdown",
   "metadata": {},
   "source": [
    "### Extract the user and item embedding vectors as latent feature vectors\n"
   ]
  },
  {
   "cell_type": "markdown",
   "metadata": {},
   "source": [
    "Now, we have trained the `RecommenderNet()` model and it can predict the ratings with relatively small RMSE.\n",
    "\n",
    "If we print the trained model then we can see its layers and their parameters/weights.\n"
   ]
  },
  {
   "cell_type": "code",
   "execution_count": 41,
   "metadata": {},
   "outputs": [
    {
     "name": "stdout",
     "output_type": "stream",
     "text": [
      "Model: \"recommender_net\"\n",
      "_________________________________________________________________\n",
      " Layer (type)                Output Shape              Param #   \n",
      "=================================================================\n",
      " user_embedding_layer (Embed  multiple                 542416    \n",
      " ding)                                                           \n",
      "                                                                 \n",
      " user_bias (Embedding)       multiple                  33901     \n",
      "                                                                 \n",
      " item_embedding_layer (Embed  multiple                 2016      \n",
      " ding)                                                           \n",
      "                                                                 \n",
      " item_bias (Embedding)       multiple                  126       \n",
      "                                                                 \n",
      "=================================================================\n",
      "Total params: 578,459\n",
      "Trainable params: 578,459\n",
      "Non-trainable params: 0\n",
      "_________________________________________________________________\n"
     ]
    }
   ],
   "source": [
    "model.summary()"
   ]
  },
  {
   "cell_type": "markdown",
   "metadata": {},
   "source": [
    "In the `RecommenderNet`, the `user_embedding_layer` and `item_embedding_layer` layers contain the trained weights. Essentially, they are the latent user and item features learned by `RecommenderNet` and will be used to predict the interaction. As such, while training the neural network to predict rating, the embedding layers are simultaneously trained to extract the embedding user and item features.\n"
   ]
  },
  {
   "cell_type": "markdown",
   "metadata": {},
   "source": [
    "We can easily get the actual weights using `model.get_layer().get_weights()` methods\n"
   ]
  },
  {
   "cell_type": "code",
   "execution_count": 42,
   "metadata": {},
   "outputs": [
    {
     "name": "stdout",
     "output_type": "stream",
     "text": [
      "User features shape: (33901, 16)\n"
     ]
    }
   ],
   "source": [
    "# User features\n",
    "user_latent_features = model.get_layer('user_embedding_layer').get_weights()[0]\n",
    "print(f\"User features shape: {user_latent_features.shape}\")"
   ]
  },
  {
   "cell_type": "code",
   "execution_count": 43,
   "metadata": {},
   "outputs": [
    {
     "data": {
      "text/plain": [
       "array([-0.03790464, -0.03878061,  0.07414042, -0.0095172 ,  0.0215273 ,\n",
       "       -0.02508512, -0.03361789, -0.05500112, -0.01313655, -0.07372444,\n",
       "       -0.01991272,  0.02667735, -0.08372416,  0.01670171,  0.02174026,\n",
       "        0.01732759], dtype=float32)"
      ]
     },
     "execution_count": 43,
     "metadata": {},
     "output_type": "execute_result"
    }
   ],
   "source": [
    "user_latent_features[0]"
   ]
  },
  {
   "cell_type": "code",
   "execution_count": 44,
   "metadata": {},
   "outputs": [
    {
     "name": "stdout",
     "output_type": "stream",
     "text": [
      "Item features shape: (126, 16)\n"
     ]
    }
   ],
   "source": [
    "item_latent_features = model.get_layer('item_embedding_layer').get_weights()[0]\n",
    "print(f\"Item features shape: {item_latent_features.shape}\")"
   ]
  },
  {
   "cell_type": "code",
   "execution_count": 45,
   "metadata": {},
   "outputs": [
    {
     "data": {
      "text/plain": [
       "array([-1.0709016e-03,  7.3820946e-04, -5.4260669e-05, -1.2020412e-03,\n",
       "       -2.0423196e-03,  1.8122952e-04,  2.6858042e-03, -1.3213635e-03,\n",
       "       -6.9396215e-04, -2.4925154e-03, -1.7116501e-03, -1.5066146e-03,\n",
       "       -1.6458227e-03, -7.1490527e-04,  3.5440277e-03, -2.1892600e-03],\n",
       "      dtype=float32)"
      ]
     },
     "execution_count": 45,
     "metadata": {},
     "output_type": "execute_result"
    }
   ],
   "source": [
    "item_latent_features[0]"
   ]
  },
  {
   "cell_type": "markdown",
   "metadata": {},
   "source": [
    "Now, each user of the total 33901 users has been transformed into a 16 x 1 latent feature vector and each item of the total 126 has been transformed into a 16 x 1 latent feature vector.\n"
   ]
  },
  {
   "cell_type": "markdown",
   "metadata": {},
   "source": [
    "### TASK (Optional): Customize the RecommenderNet to potentially improve the model performance\n"
   ]
  },
  {
   "cell_type": "markdown",
   "metadata": {},
   "source": [
    "The pre-defined `RecommenderNet()` is a actually very basic neural network, you are encouraged to customize it to see if model prediction performance will be improved. Here are some directions:\n",
    "\n",
    "*   Hyperparameter tuning, such as the embedding layer dimensions\n",
    "*   Add more hidden layers\n",
    "*   Try different activation functions such as `ReLu`\n"
   ]
  },
  {
   "cell_type": "code",
   "execution_count": null,
   "metadata": {},
   "outputs": [],
   "source": [
    "## WRITE YOUR CODE HERE\n",
    "\n",
    "## Update RecommenderNet() class\n",
    "\n",
    "## compile and fit the updated model\n",
    "\n",
    "## evaluate the updated model\n"
   ]
  },
  {
   "cell_type": "markdown",
   "metadata": {},
   "source": [
    "### Summary\n"
   ]
  },
  {
   "cell_type": "markdown",
   "metadata": {},
   "source": [
    "In this lab, you have learned and practiced predicting course ratings using neural networks. With a predefined and trained neural network, we can extract or embed users and items into latent feature spaces and further predict the interaction between a user and an item with the latent feature vectors.\n"
   ]
  },
  {
   "cell_type": "markdown",
   "metadata": {},
   "source": [
    "## Authors\n"
   ]
  },
  {
   "cell_type": "markdown",
   "metadata": {},
   "source": [
    "[Yan Luo](https://www.linkedin.com/in/yan-luo-96288783/?utm_medium=Exinfluencer&utm_source=Exinfluencer&utm_content=000026UJ&utm_term=10006555&utm_id=NA-SkillsNetwork-Channel-SkillsNetworkCoursesIBMML321ENSkillsNetwork32585014-2022-01-01)\n"
   ]
  },
  {
   "cell_type": "markdown",
   "metadata": {},
   "source": [
    "### Other Contributors\n"
   ]
  },
  {
   "cell_type": "markdown",
   "metadata": {},
   "source": [
    "## Change Log\n"
   ]
  },
  {
   "cell_type": "markdown",
   "metadata": {},
   "source": [
    "| Date (YYYY-MM-DD) | Version | Changed By | Change Description          |\n",
    "| ----------------- | ------- | ---------- | --------------------------- |\n",
    "| 2021-10-25        | 1.0     | Yan        | Created the initial version |\n"
   ]
  },
  {
   "cell_type": "markdown",
   "metadata": {},
   "source": [
    "Copyright © 2021 IBM Corporation. All rights reserved.\n"
   ]
  }
 ],
 "metadata": {
  "kernelspec": {
   "display_name": "ibm",
   "language": "python",
   "name": "ibm"
  },
  "language_info": {
   "codemirror_mode": {
    "name": "ipython",
    "version": 3
   },
   "file_extension": ".py",
   "mimetype": "text/x-python",
   "name": "python",
   "nbconvert_exporter": "python",
   "pygments_lexer": "ipython3",
   "version": "3.10.4"
  }
 },
 "nbformat": 4,
 "nbformat_minor": 4
}
