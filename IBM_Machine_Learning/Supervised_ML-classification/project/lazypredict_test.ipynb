{
 "cells": [
  {
   "cell_type": "code",
   "execution_count": 1,
   "id": "32c61ea2-4c54-4433-a883-576206ef8622",
   "metadata": {},
   "outputs": [],
   "source": [
    "import pandas as pd\n",
    "from lazypredict.Supervised import LazyClassifier\n",
    "from sklearn.model_selection import train_test_split\n",
    "from sklearn.metrics import precision_score\n",
    "from sklearn.metrics import recall_score\n",
    "from functools import partial"
   ]
  },
  {
   "cell_type": "code",
   "execution_count": 2,
   "id": "f32ad409-4507-4f85-9ccd-37c07827574d",
   "metadata": {},
   "outputs": [
    {
     "name": "stdout",
     "output_type": "stream",
     "text": [
      "<class 'pandas.core.frame.DataFrame'>\n",
      "Int64Index: 5109 entries, 9046 to 44679\n",
      "Data columns (total 16 columns):\n",
      " #   Column                          Non-Null Count  Dtype  \n",
      "---  ------                          --------------  -----  \n",
      " 0   age                             5109 non-null   float64\n",
      " 1   hypertension                    5109 non-null   float64\n",
      " 2   heart_disease                   5109 non-null   float64\n",
      " 3   avg_glucose_level               5109 non-null   float64\n",
      " 4   bmi                             5109 non-null   float64\n",
      " 5   stroke                          5109 non-null   float64\n",
      " 6   gender_Male                     5109 non-null   float64\n",
      " 7   ever_married_Yes                5109 non-null   float64\n",
      " 8   work_type_Never_worked          5109 non-null   float64\n",
      " 9   work_type_Private               5109 non-null   float64\n",
      " 10  work_type_Self-employed         5109 non-null   float64\n",
      " 11  work_type_children              5109 non-null   float64\n",
      " 12  Residence_type_Urban            5109 non-null   float64\n",
      " 13  smoking_status_formerly smoked  5109 non-null   float64\n",
      " 14  smoking_status_never smoked     5109 non-null   float64\n",
      " 15  smoking_status_smokes           5109 non-null   float64\n",
      "dtypes: float64(16)\n",
      "memory usage: 678.5 KB\n"
     ]
    }
   ],
   "source": [
    "# load data, peek at data\n",
    "df = pd.read_csv('healthcare-dataset-stroke-data-cleaned.csv').set_index('id')\n",
    "df.info()"
   ]
  },
  {
   "cell_type": "code",
   "execution_count": 3,
   "id": "c61a08ca-f4db-4e24-b215-d9e53a63b3af",
   "metadata": {},
   "outputs": [],
   "source": [
    "# Relabel, split\n",
    "X = df.loc[ : , df.columns != 'stroke']\n",
    "y = df['stroke'].astype('int')\n",
    "X_train, X_test, y_train, y_test = train_test_split(X, y, test_size=0.2, stratify=y, random_state = 12345)"
   ]
  },
  {
   "cell_type": "code",
   "execution_count": 4,
   "id": "43934589-b7f9-4507-9c18-fc291c259d6f",
   "metadata": {},
   "outputs": [],
   "source": [
    "# Fix imbalance with SMOTE\n",
    "from imblearn.over_sampling import SMOTE\n",
    "smote_sampler = SMOTE(random_state = 12345)\n",
    "X_smo, y_smo = smote_sampler.fit_resample(X_train, y_train)"
   ]
  },
  {
   "cell_type": "code",
   "execution_count": 5,
   "id": "11423b34-deb5-4ba0-b343-e160c55fb34e",
   "metadata": {},
   "outputs": [
    {
     "name": "stderr",
     "output_type": "stream",
     "text": [
      "100%|██████████████████████████████████████████████████████████████████████████████████| 29/29 [00:19<00:00,  1.49it/s]\n"
     ]
    }
   ],
   "source": [
    "# Impute missing values with mean. StandardScaler for numerical, OneHotEncoder or OrdinalEncoder for categorical. Train\n",
    "lazyclassify = LazyClassifier(predictions=True, verbose=0, custom_metric=recall_score)\n",
    "models, predictions = lazyclassify.fit(X_smo, X_test, y_smo, y_test)"
   ]
  },
  {
   "cell_type": "code",
   "execution_count": 7,
   "id": "3c09ac74-de8e-42ad-9b80-f67b13644120",
   "metadata": {},
   "outputs": [
    {
     "name": "stdout",
     "output_type": "stream",
     "text": [
      "                               Accuracy  Balanced Accuracy  ROC AUC  F1 Score  \\\n",
      "Model                                                                           \n",
      "BernoulliNB                        0.71               0.80     0.80      0.79   \n",
      "AdaBoostClassifier                 0.76               0.76     0.76      0.83   \n",
      "CalibratedClassifierCV             0.74               0.76     0.76      0.82   \n",
      "SGDClassifier                      0.76               0.76     0.76      0.83   \n",
      "LogisticRegression                 0.74               0.76     0.76      0.81   \n",
      "LinearSVC                          0.74               0.76     0.76      0.81   \n",
      "LinearDiscriminantAnalysis         0.73               0.76     0.76      0.81   \n",
      "RidgeClassifierCV                  0.73               0.76     0.76      0.81   \n",
      "RidgeClassifier                    0.73               0.76     0.76      0.81   \n",
      "NearestCentroid                    0.67               0.73     0.73      0.77   \n",
      "NuSVC                              0.74               0.73     0.73      0.81   \n",
      "Perceptron                         0.74               0.71     0.71      0.81   \n",
      "PassiveAggressiveClassifier        0.69               0.67     0.67      0.78   \n",
      "SVC                                0.81               0.66     0.66      0.86   \n",
      "QuadraticDiscriminantAnalysis      0.44               0.63     0.63      0.57   \n",
      "GaussianNB                         0.30               0.63     0.63      0.40   \n",
      "DecisionTreeClassifier             0.84               0.60     0.60      0.88   \n",
      "XGBClassifier                      0.93               0.59     0.59      0.93   \n",
      "ExtraTreeClassifier                0.87               0.59     0.59      0.89   \n",
      "BaggingClassifier                  0.89               0.59     0.59      0.90   \n",
      "RandomForestClassifier             0.91               0.57     0.57      0.91   \n",
      "KNeighborsClassifier               0.83               0.57     0.57      0.87   \n",
      "LabelPropagation                   0.88               0.57     0.57      0.90   \n",
      "LabelSpreading                     0.88               0.57     0.57      0.90   \n",
      "LGBMClassifier                     0.92               0.56     0.56      0.92   \n",
      "ExtraTreesClassifier               0.90               0.53     0.53      0.91   \n",
      "DummyClassifier                    0.95               0.50     0.50      0.93   \n",
      "\n",
      "                               recall_score  Time Taken  \n",
      "Model                                                    \n",
      "BernoulliNB                            0.90        0.04  \n",
      "AdaBoostClassifier                     0.76        0.43  \n",
      "CalibratedClassifierCV                 0.78        2.20  \n",
      "SGDClassifier                          0.76        0.08  \n",
      "LogisticRegression                     0.78        0.03  \n",
      "LinearSVC                              0.78        0.54  \n",
      "LinearDiscriminantAnalysis             0.78        0.05  \n",
      "RidgeClassifierCV                      0.78        0.03  \n",
      "RidgeClassifier                        0.78        0.02  \n",
      "NearestCentroid                        0.80        0.02  \n",
      "NuSVC                                  0.72        3.56  \n",
      "Perceptron                             0.68        0.02  \n",
      "PassiveAggressiveClassifier            0.64        0.03  \n",
      "SVC                                    0.50        2.03  \n",
      "QuadraticDiscriminantAnalysis          0.84        0.02  \n",
      "GaussianNB                             1.00        0.02  \n",
      "DecisionTreeClassifier                 0.34        0.09  \n",
      "XGBClassifier                          0.22        0.57  \n",
      "ExtraTreeClassifier                    0.28        0.03  \n",
      "BaggingClassifier                      0.26        0.41  \n",
      "RandomForestClassifier                 0.20        1.12  \n",
      "KNeighborsClassifier                   0.28        0.18  \n",
      "LabelPropagation                       0.22        2.89  \n",
      "LabelSpreading                         0.22        3.99  \n",
      "LGBMClassifier                         0.16        0.30  \n",
      "ExtraTreesClassifier                   0.12        0.71  \n",
      "DummyClassifier                        0.00        0.02  \n"
     ]
    }
   ],
   "source": [
    "# Prediction results\n",
    "print(models)"
   ]
  },
  {
   "cell_type": "code",
   "execution_count": null,
   "id": "31b47720-6ab9-4f96-b0c5-1124dc6278e9",
   "metadata": {},
   "outputs": [],
   "source": []
  }
 ],
 "metadata": {
  "kernelspec": {
   "display_name": "ibm",
   "language": "python",
   "name": "ibm"
  },
  "language_info": {
   "codemirror_mode": {
    "name": "ipython",
    "version": 3
   },
   "file_extension": ".py",
   "mimetype": "text/x-python",
   "name": "python",
   "nbconvert_exporter": "python",
   "pygments_lexer": "ipython3",
   "version": "3.10.4"
  }
 },
 "nbformat": 4,
 "nbformat_minor": 5
}
